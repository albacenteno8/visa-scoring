{
 "cells": [
  {
   "cell_type": "code",
   "execution_count": null,
   "metadata": {},
   "outputs": [],
   "source": [
    "import pandas as pd\n",
    "import os"
   ]
  },
  {
   "cell_type": "code",
   "execution_count": null,
   "metadata": {},
   "outputs": [],
   "source": [
    "def scan_refusal_folders(base_path):\n",
    "    \"\"\"\n",
    "    Walks each immediate subfolder of base_path and checks for PDFs whose\n",
    "    filenames contain 'application' or 'parallel'.\n",
    "    Returns a DataFrame with columns: Name, IMI, Parallel.\n",
    "    \"\"\"\n",
    "    records = []\n",
    "    # Iterate over each entry in the refusal folder\n",
    "    for entry in os.listdir(base_path):\n",
    "        folder = os.path.join(base_path, entry)\n",
    "        if not os.path.isdir(folder):\n",
    "            continue\n",
    "        name = entry.lower()  # normalize to lowercase\n",
    "\n",
    "        # look for .pdf files containing the keywords\n",
    "        has_imi = False\n",
    "        has_parallel = False\n",
    "        excludes = {'acknowledgement', 'withdrawal', 'bvb', 'passport','summary'}\n",
    "        for fn in os.listdir(folder):\n",
    "            fn_low = fn.lower()\n",
    "            if fn_low.endswith('.pdf'):\n",
    "                if ( \"application\" in fn_low and not any(ex in fn_low for ex in excludes)):\n",
    "                    has_imi = True\n",
    "                if 'parallel' in fn_low:\n",
    "                    has_parallel = True\n",
    "        records.append({\n",
    "            'Name': name,\n",
    "            'IMI': 'yes' if has_imi else 'no',\n",
    "            'Parallel': 'yes' if has_parallel else 'no'\n",
    "        })\n",
    "\n",
    "    return pd.DataFrame(records, columns=['Name', 'IMI', 'Parallel'])"
   ]
  },
  {
   "cell_type": "code",
   "execution_count": null,
   "metadata": {},
   "outputs": [],
   "source": [
    "base = 'data_all/Info Students/Refusal'\n",
    "df_refusal = scan_refusal_folders(base)\n",
    "df_refusal['type'] ='Refusal'\n",
    "ref_shape_r = df_refusal.shape[0]\n",
    "\n",
    "base = 'data_all/Info Students/Grant'\n",
    "df_grant = scan_refusal_folders(base)\n",
    "df_grant['type'] ='Grant'\n",
    "ref_shape_g = df_grant.shape[0]\n",
    "\n"
   ]
  },
  {
   "cell_type": "code",
   "execution_count": null,
   "metadata": {},
   "outputs": [],
   "source": [
    "df_files = pd.concat([df_grant,df_refusal])"
   ]
  },
  {
   "cell_type": "code",
   "execution_count": null,
   "metadata": {},
   "outputs": [],
   "source": [
    "df_files.to_csv('files_grant_refusal.csv',index=False)"
   ]
  },
  {
   "cell_type": "code",
   "execution_count": null,
   "metadata": {},
   "outputs": [],
   "source": [
    "df_files[df_files.IMI=='no']"
   ]
  },
  {
   "cell_type": "code",
   "execution_count": null,
   "metadata": {},
   "outputs": [],
   "source": [
    "(df_refusal.Parallel.value_counts()/ref_shape_r)*100"
   ]
  },
  {
   "cell_type": "code",
   "execution_count": null,
   "metadata": {},
   "outputs": [],
   "source": [
    "df_grant.IMI.value_counts()"
   ]
  },
  {
   "cell_type": "code",
   "execution_count": null,
   "metadata": {},
   "outputs": [],
   "source": [
    "df_grant.shape"
   ]
  },
  {
   "cell_type": "code",
   "execution_count": null,
   "metadata": {},
   "outputs": [],
   "source": [
    "(df_refusal.Parallel.value_counts()/ref_shape)*100"
   ]
  },
  {
   "cell_type": "code",
   "execution_count": null,
   "metadata": {},
   "outputs": [],
   "source": [
    "base = 'data_all/Refusal_2'\n",
    "df_grant = scan_refusal_folders(base)\n",
    "grant_shape = df_grant.shape[0]"
   ]
  },
  {
   "cell_type": "code",
   "execution_count": null,
   "metadata": {},
   "outputs": [],
   "source": [
    "df_grant.IMI.value_counts()"
   ]
  },
  {
   "cell_type": "code",
   "execution_count": null,
   "metadata": {},
   "outputs": [],
   "source": [
    "(df_grant.IMI.value_counts()/grant_shape)*100"
   ]
  },
  {
   "cell_type": "code",
   "execution_count": null,
   "metadata": {},
   "outputs": [],
   "source": [
    "(df_grant.IMI.value_counts()/grant_shape)*100"
   ]
  },
  {
   "cell_type": "code",
   "execution_count": null,
   "metadata": {},
   "outputs": [],
   "source": [
    "(df_grant.Parallel.value_counts()/grant_shape)*100"
   ]
  },
  {
   "cell_type": "code",
   "execution_count": null,
   "metadata": {},
   "outputs": [],
   "source": [
    "df_grant[(df_grant.IMI=='yes')].shape"
   ]
  },
  {
   "cell_type": "code",
   "execution_count": null,
   "metadata": {},
   "outputs": [],
   "source": [
    "df_refusal[(df_refusal.IMI=='yes')].shape"
   ]
  },
  {
   "cell_type": "code",
   "execution_count": null,
   "metadata": {},
   "outputs": [],
   "source": [
    "df_refusal[(df_refusal.IMI=='no')].shape"
   ]
  },
  {
   "cell_type": "code",
   "execution_count": null,
   "metadata": {},
   "outputs": [],
   "source": [
    "((625+115)/5700)*100"
   ]
  },
  {
   "cell_type": "code",
   "execution_count": null,
   "metadata": {},
   "outputs": [],
   "source": []
  }
 ],
 "metadata": {
  "kernelspec": {
   "display_name": "Python 3",
   "language": "python",
   "name": "python3"
  },
  "language_info": {
   "codemirror_mode": {
    "name": "ipython",
    "version": 3
   },
   "file_extension": ".py",
   "mimetype": "text/x-python",
   "name": "python",
   "nbconvert_exporter": "python",
   "pygments_lexer": "ipython3",
   "version": "3.11.5"
  }
 },
 "nbformat": 4,
 "nbformat_minor": 2
}
