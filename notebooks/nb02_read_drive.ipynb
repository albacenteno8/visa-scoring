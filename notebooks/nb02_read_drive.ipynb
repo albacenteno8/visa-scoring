{
 "cells": [
  {
   "cell_type": "code",
   "execution_count": 4,
   "metadata": {},
   "outputs": [],
   "source": [
    "import pandas as pd\n",
    "import os"
   ]
  },
  {
   "cell_type": "code",
   "execution_count": null,
   "metadata": {},
   "outputs": [],
   "source": [
    "def scan_refusal_folders(base_path):\n",
    "    \"\"\"\n",
    "    Walks each immediate subfolder of base_path and checks for PDFs whose\n",
    "    filenames contain 'application' or 'parallel'.\n",
    "    Returns a DataFrame with columns: Name, IMI, Parallel.\n",
    "    \"\"\"\n",
    "    records = []\n",
    "    # Iterate over each entry in the refusal folder\n",
    "    for entry in os.listdir(base_path):\n",
    "        folder = os.path.join(base_path, entry)\n",
    "        if not os.path.isdir(folder):\n",
    "            continue\n",
    "        name = entry.lower()  # normalize to lowercase\n",
    "\n",
    "        # look for .pdf files containing the keywords\n",
    "        has_imi = False\n",
    "        has_parallel = False\n",
    "        excludes = {'acknowledgement', 'withdrawal', 'bvb', 'passport','summary'}\n",
    "        for fn in os.listdir(folder):\n",
    "            fn_low = fn.lower()\n",
    "            if fn_low.endswith('.pdf'):\n",
    "                if ( \"application\" in fn_low and not any(ex in fn_low for ex in excludes)):\n",
    "                    has_imi = True\n",
    "                if 'parallel' in fn_low:\n",
    "                    has_parallel = True\n",
    "        records.append({\n",
    "            'Name': name,\n",
    "            'IMI': 'yes' if has_imi else 'no',\n",
    "            'Parallel': 'yes' if has_parallel else 'no'\n",
    "        })\n",
    "\n",
    "    return pd.DataFrame(records, columns=['Name', 'IMI', 'Parallel'])"
   ]
  },
  {
   "cell_type": "code",
   "execution_count": 101,
   "metadata": {},
   "outputs": [],
   "source": [
    "base = 'data_all/Info Students/Refusal'\n",
    "df_refusal = scan_refusal_folders(base)\n",
    "df_refusal['type'] ='Refusal'\n",
    "ref_shape_r = df_refusal.shape[0]\n",
    "\n",
    "base = 'data_all/Info Students/Grant'\n",
    "df_grant = scan_refusal_folders(base)\n",
    "df_grant['type'] ='Grant'\n",
    "ref_shape_g = df_grant.shape[0]\n",
    "\n"
   ]
  },
  {
   "cell_type": "code",
   "execution_count": 102,
   "metadata": {},
   "outputs": [],
   "source": [
    "df_files = pd.concat([df_grant,df_refusal])"
   ]
  },
  {
   "cell_type": "code",
   "execution_count": 100,
   "metadata": {},
   "outputs": [],
   "source": [
    "df_files.to_csv('files_grant_refusal.csv',index=False)"
   ]
  },
  {
   "cell_type": "code",
   "execution_count": 103,
   "metadata": {},
   "outputs": [
    {
     "data": {
      "text/html": [
       "<div>\n",
       "<style scoped>\n",
       "    .dataframe tbody tr th:only-of-type {\n",
       "        vertical-align: middle;\n",
       "    }\n",
       "\n",
       "    .dataframe tbody tr th {\n",
       "        vertical-align: top;\n",
       "    }\n",
       "\n",
       "    .dataframe thead th {\n",
       "        text-align: right;\n",
       "    }\n",
       "</style>\n",
       "<table border=\"1\" class=\"dataframe\">\n",
       "  <thead>\n",
       "    <tr style=\"text-align: right;\">\n",
       "      <th></th>\n",
       "      <th>Name</th>\n",
       "      <th>IMI</th>\n",
       "      <th>Parallel</th>\n",
       "      <th>type</th>\n",
       "    </tr>\n",
       "  </thead>\n",
       "  <tbody>\n",
       "    <tr>\n",
       "      <th>2</th>\n",
       "      <td>claudia dorado alonso</td>\n",
       "      <td>no</td>\n",
       "      <td>yes</td>\n",
       "      <td>Grant</td>\n",
       "    </tr>\n",
       "    <tr>\n",
       "      <th>3</th>\n",
       "      <td>oscar arley baez castillo</td>\n",
       "      <td>no</td>\n",
       "      <td>no</td>\n",
       "      <td>Grant</td>\n",
       "    </tr>\n",
       "    <tr>\n",
       "      <th>4</th>\n",
       "      <td>jose ronald lozada rosas</td>\n",
       "      <td>no</td>\n",
       "      <td>no</td>\n",
       "      <td>Grant</td>\n",
       "    </tr>\n",
       "    <tr>\n",
       "      <th>7</th>\n",
       "      <td>brandon daniel varon villamil</td>\n",
       "      <td>no</td>\n",
       "      <td>no</td>\n",
       "      <td>Grant</td>\n",
       "    </tr>\n",
       "    <tr>\n",
       "      <th>8</th>\n",
       "      <td>laura casanovas_ac1052</td>\n",
       "      <td>no</td>\n",
       "      <td>no</td>\n",
       "      <td>Grant</td>\n",
       "    </tr>\n",
       "    <tr>\n",
       "      <th>...</th>\n",
       "      <td>...</td>\n",
       "      <td>...</td>\n",
       "      <td>...</td>\n",
       "      <td>...</td>\n",
       "    </tr>\n",
       "    <tr>\n",
       "      <th>724</th>\n",
       "      <td>melina castro</td>\n",
       "      <td>no</td>\n",
       "      <td>no</td>\n",
       "      <td>Refusal</td>\n",
       "    </tr>\n",
       "    <tr>\n",
       "      <th>725</th>\n",
       "      <td>jose david rodriguez_ac1286</td>\n",
       "      <td>no</td>\n",
       "      <td>no</td>\n",
       "      <td>Refusal</td>\n",
       "    </tr>\n",
       "    <tr>\n",
       "      <th>731</th>\n",
       "      <td>jhony esneider ardila arzuaga</td>\n",
       "      <td>no</td>\n",
       "      <td>yes</td>\n",
       "      <td>Refusal</td>\n",
       "    </tr>\n",
       "    <tr>\n",
       "      <th>734</th>\n",
       "      <td>cristhian dario medina vera</td>\n",
       "      <td>no</td>\n",
       "      <td>yes</td>\n",
       "      <td>Refusal</td>\n",
       "    </tr>\n",
       "    <tr>\n",
       "      <th>739</th>\n",
       "      <td>cristian david molina rodriguez</td>\n",
       "      <td>no</td>\n",
       "      <td>yes</td>\n",
       "      <td>Refusal</td>\n",
       "    </tr>\n",
       "  </tbody>\n",
       "</table>\n",
       "<p>2488 rows × 4 columns</p>\n",
       "</div>"
      ],
      "text/plain": [
       "                                Name IMI Parallel     type\n",
       "2              claudia dorado alonso  no      yes    Grant\n",
       "3          oscar arley baez castillo  no       no    Grant\n",
       "4           jose ronald lozada rosas  no       no    Grant\n",
       "7      brandon daniel varon villamil  no       no    Grant\n",
       "8             laura casanovas_ac1052  no       no    Grant\n",
       "..                               ...  ..      ...      ...\n",
       "724                    melina castro  no       no  Refusal\n",
       "725      jose david rodriguez_ac1286  no       no  Refusal\n",
       "731    jhony esneider ardila arzuaga  no      yes  Refusal\n",
       "734      cristhian dario medina vera  no      yes  Refusal\n",
       "739  cristian david molina rodriguez  no      yes  Refusal\n",
       "\n",
       "[2488 rows x 4 columns]"
      ]
     },
     "execution_count": 103,
     "metadata": {},
     "output_type": "execute_result"
    }
   ],
   "source": [
    "df_files[df_files.IMI=='no']"
   ]
  },
  {
   "cell_type": "code",
   "execution_count": 108,
   "metadata": {},
   "outputs": [
    {
     "data": {
      "text/plain": [
       "Parallel\n",
       "yes    54.189189\n",
       "no     45.810811\n",
       "Name: count, dtype: float64"
      ]
     },
     "execution_count": 108,
     "metadata": {},
     "output_type": "execute_result"
    }
   ],
   "source": [
    "(df_refusal.Parallel.value_counts()/ref_shape_r)*100"
   ]
  },
  {
   "cell_type": "code",
   "execution_count": 110,
   "metadata": {},
   "outputs": [
    {
     "data": {
      "text/plain": [
       "IMI\n",
       "yes    6937\n",
       "no     2378\n",
       "Name: count, dtype: int64"
      ]
     },
     "execution_count": 110,
     "metadata": {},
     "output_type": "execute_result"
    }
   ],
   "source": [
    "df_grant.IMI.value_counts()"
   ]
  },
  {
   "cell_type": "code",
   "execution_count": 98,
   "metadata": {},
   "outputs": [
    {
     "data": {
      "text/plain": [
       "(6629, 4)"
      ]
     },
     "execution_count": 98,
     "metadata": {},
     "output_type": "execute_result"
    }
   ],
   "source": [
    "df_grant.shape"
   ]
  },
  {
   "cell_type": "code",
   "execution_count": 72,
   "metadata": {},
   "outputs": [
    {
     "data": {
      "text/plain": [
       "Parallel\n",
       "no     74.054054\n",
       "yes    25.945946\n",
       "Name: count, dtype: float64"
      ]
     },
     "execution_count": 72,
     "metadata": {},
     "output_type": "execute_result"
    }
   ],
   "source": [
    "(df_refusal.Parallel.value_counts()/ref_shape)*100"
   ]
  },
  {
   "cell_type": "code",
   "execution_count": 56,
   "metadata": {},
   "outputs": [],
   "source": [
    "base = 'data_all/Refusal_2'\n",
    "df_grant = scan_refusal_folders(base)\n",
    "grant_shape = df_grant.shape[0]"
   ]
  },
  {
   "cell_type": "code",
   "execution_count": 57,
   "metadata": {},
   "outputs": [
    {
     "data": {
      "text/plain": [
       "IMI\n",
       "no     742\n",
       "yes      8\n",
       "Name: count, dtype: int64"
      ]
     },
     "execution_count": 57,
     "metadata": {},
     "output_type": "execute_result"
    }
   ],
   "source": [
    "df_grant.IMI.value_counts()"
   ]
  },
  {
   "cell_type": "code",
   "execution_count": 58,
   "metadata": {},
   "outputs": [
    {
     "data": {
      "text/plain": [
       "IMI\n",
       "no     98.933333\n",
       "yes     1.066667\n",
       "Name: count, dtype: float64"
      ]
     },
     "execution_count": 58,
     "metadata": {},
     "output_type": "execute_result"
    }
   ],
   "source": [
    "(df_grant.IMI.value_counts()/grant_shape)*100"
   ]
  },
  {
   "cell_type": "code",
   "execution_count": 47,
   "metadata": {},
   "outputs": [
    {
     "data": {
      "text/plain": [
       "IMI\n",
       "yes    84.459459\n",
       "no     15.540541\n",
       "Name: count, dtype: float64"
      ]
     },
     "execution_count": 47,
     "metadata": {},
     "output_type": "execute_result"
    }
   ],
   "source": [
    "(df_grant.IMI.value_counts()/grant_shape)*100"
   ]
  },
  {
   "cell_type": "code",
   "execution_count": 33,
   "metadata": {},
   "outputs": [
    {
     "data": {
      "text/plain": [
       "Parallel\n",
       "no     82.082833\n",
       "yes    17.917167\n",
       "Name: count, dtype: float64"
      ]
     },
     "execution_count": 33,
     "metadata": {},
     "output_type": "execute_result"
    }
   ],
   "source": [
    "(df_grant.Parallel.value_counts()/grant_shape)*100"
   ]
  },
  {
   "cell_type": "code",
   "execution_count": 39,
   "metadata": {},
   "outputs": [
    {
     "data": {
      "text/plain": [
       "(5700, 3)"
      ]
     },
     "execution_count": 39,
     "metadata": {},
     "output_type": "execute_result"
    }
   ],
   "source": [
    "df_grant[(df_grant.IMI=='yes')].shape"
   ]
  },
  {
   "cell_type": "code",
   "execution_count": 40,
   "metadata": {},
   "outputs": [
    {
     "data": {
      "text/plain": [
       "(625, 3)"
      ]
     },
     "execution_count": 40,
     "metadata": {},
     "output_type": "execute_result"
    }
   ],
   "source": [
    "df_refusal[(df_refusal.IMI=='yes')].shape"
   ]
  },
  {
   "cell_type": "code",
   "execution_count": 41,
   "metadata": {},
   "outputs": [
    {
     "data": {
      "text/plain": [
       "(115, 3)"
      ]
     },
     "execution_count": 41,
     "metadata": {},
     "output_type": "execute_result"
    }
   ],
   "source": [
    "df_refusal[(df_refusal.IMI=='no')].shape"
   ]
  },
  {
   "cell_type": "code",
   "execution_count": 45,
   "metadata": {},
   "outputs": [
    {
     "data": {
      "text/plain": [
       "12.982456140350877"
      ]
     },
     "execution_count": 45,
     "metadata": {},
     "output_type": "execute_result"
    }
   ],
   "source": [
    "((625+115)/5700)*100"
   ]
  },
  {
   "cell_type": "code",
   "execution_count": null,
   "metadata": {},
   "outputs": [],
   "source": []
  }
 ],
 "metadata": {
  "kernelspec": {
   "display_name": "Python 3",
   "language": "python",
   "name": "python3"
  },
  "language_info": {
   "codemirror_mode": {
    "name": "ipython",
    "version": 3
   },
   "file_extension": ".py",
   "mimetype": "text/x-python",
   "name": "python",
   "nbconvert_exporter": "python",
   "pygments_lexer": "ipython3",
   "version": "3.11.5"
  }
 },
 "nbformat": 4,
 "nbformat_minor": 2
}
