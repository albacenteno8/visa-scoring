{
 "cells": [
  {
   "cell_type": "code",
   "execution_count": 1,
   "metadata": {},
   "outputs": [],
   "source": [
    "from run_parallel import process_parallel_bold\n",
    "import pandas as pd\n",
    "import logging\n",
    "\n",
    "# Silence pdfminer and pdfplumber logs\n",
    "logging.getLogger(\"pdfminer\").setLevel(logging.ERROR)\n",
    "logging.getLogger(\"pdfplumber\").setLevel(logging.ERROR)"
   ]
  },
  {
   "cell_type": "code",
   "execution_count": 2,
   "metadata": {},
   "outputs": [],
   "source": [
    "pd.set_option('display.max_columns', None)\n",
    "pd.set_option('display.max_rows', None)"
   ]
  },
  {
   "cell_type": "code",
   "execution_count": 3,
   "metadata": {},
   "outputs": [
    {
     "name": "stderr",
     "output_type": "stream",
     "text": [
      "Processing: 100%|██████████| 4/4 [00:34<00:00,  8.64s/it]\n",
      "/Users/albafranco/Documents/Python/visa-scoring/run_parallel.py:284: FutureWarning: Downcasting behavior in `replace` is deprecated and will be removed in a future version. To retain the old behavior, explicitly call `result.infer_objects(copy=False)`. To opt-in to the future behavior, set `pd.set_option('future.no_silent_downcasting', True)`\n",
      "  df.replace({'': np.nan}, inplace=True)\n",
      "Processing: 100%|██████████| 4/4 [00:50<00:00, 12.66s/it]\n",
      "/Users/albafranco/Documents/Python/visa-scoring/run_parallel.py:284: FutureWarning: Downcasting behavior in `replace` is deprecated and will be removed in a future version. To retain the old behavior, explicitly call `result.infer_objects(copy=False)`. To opt-in to the future behavior, set `pd.set_option('future.no_silent_downcasting', True)`\n",
      "  df.replace({'': np.nan}, inplace=True)\n",
      "/Users/albafranco/Documents/Python/visa-scoring/run_parallel.py:287: FutureWarning: Downcasting behavior in `replace` is deprecated and will be removed in a future version. To retain the old behavior, explicitly call `result.infer_objects(copy=False)`. To opt-in to the future behavior, set `pd.set_option('future.no_silent_downcasting', True)`\n",
      "  df.replace({'none': np.nan}, inplace=True)\n"
     ]
    }
   ],
   "source": [
    "\n",
    "df_all_granted, dic_questions = process_parallel_bold('data/granted/')\n",
    "df_all_granted['final_visa_status'] = 'granted'\n",
    "\n",
    "df_all_refused, dic_questions = process_parallel_bold('data/refused/',\n",
    "                                field_order=list(dic_questions.keys()),\n",
    "                                field_labels=dic_questions)\n",
    "df_all_refused['final_visa_status'] = 'refused'"
   ]
  },
  {
   "cell_type": "code",
   "execution_count": 20,
   "metadata": {},
   "outputs": [
    {
     "name": "stdout",
     "output_type": "stream",
     "text": [
      "df_all_granted (4, 152)\n",
      "df_all_refused (4, 210)\n",
      "df_all (8, 228)\n"
     ]
    }
   ],
   "source": [
    "print('df_all_granted',df_all_granted.shape)\n",
    "print('df_all_refused',df_all_refused.shape)\n",
    "\n",
    "df_all = pd.concat([df_all_granted,df_all_refused]).reset_index(drop=True)\n",
    "\n",
    "print('df_all',df_all.shape)"
   ]
  },
  {
   "cell_type": "code",
   "execution_count": 21,
   "metadata": {},
   "outputs": [],
   "source": [
    "def postprocess_df(df: pd.DataFrame) -> pd.DataFrame:\n",
    "    \"\"\"\n",
    "    Post-procesa las celdas que contienen ';' de la siguiente manera:\n",
    "      - Separa la cadena por ';'\n",
    "      - Si el último segmento es un entero <100 y el penúltimo es 'si', 'no' o 'yes',\n",
    "        devuelve el penúltimo.\n",
    "      - En cualquier otro caso (incluyendo cuando no se cumplan esas condiciones),\n",
    "        devuelve el valor original.\n",
    "    \"\"\"\n",
    "    def _clean_cell(v):\n",
    "        if isinstance(v, str) and ';' in v:\n",
    "            parts = [p.strip() for p in v.split(';') if p.strip()]\n",
    "            if len(parts) >= 2:\n",
    "                last = parts[-1]\n",
    "                try:\n",
    "                    num = int(last)\n",
    "                    penult = parts[-2].lower()\n",
    "                    if num < 100 and penult in ('si', 'no', 'yes'):\n",
    "                        return parts[-2]  # devolvemos penúltimo con su mayúsc/minúsc original\n",
    "                    else:\n",
    "                        if last in ('si', 'no', 'yes'):\n",
    "                            return last\n",
    "                        else:\n",
    "                            return v\n",
    "                except ValueError:\n",
    "                    # si el último no es número, devolvemos el valor original completo\n",
    "                    return v\n",
    "        return v\n",
    "\n",
    "    return df.applymap(_clean_cell)\n",
    "\n",
    "def unify_suffix_columns(df: pd.DataFrame) -> pd.DataFrame:\n",
    "    \"\"\"\n",
    "    Para cada par de columnas base / base_<suffix>:\n",
    "      - Rellena los NaN de 'base_<suffix>' con los valores de 'base'\n",
    "      - Elimina luego la columna 'base'\n",
    "    \"\"\"\n",
    "    to_drop = []\n",
    "    # Iteramos sobre una copia de los nombres\n",
    "    for col in list(df.columns):\n",
    "        if \"_\" not in col:\n",
    "            continue\n",
    "        base, suffix = col.rsplit(\"_\", 1)\n",
    "        # si existe la columna base, unimos y marcamos para borrar la base\n",
    "        if base in df.columns:\n",
    "            df[col] = df[col].fillna(df[base])\n",
    "            to_drop.append(base)\n",
    "    return df.drop(columns=to_drop, errors=\"ignore\")"
   ]
  },
  {
   "cell_type": "code",
   "execution_count": 22,
   "metadata": {},
   "outputs": [
    {
     "name": "stderr",
     "output_type": "stream",
     "text": [
      "/var/folders/f0/dt7lkxv100q68c369j1bzgk00000gn/T/ipykernel_18165/3967653526.py:30: FutureWarning: DataFrame.applymap has been deprecated. Use DataFrame.map instead.\n",
      "  return df.applymap(_clean_cell)\n"
     ]
    }
   ],
   "source": [
    "df_check = postprocess_df(df_all)"
   ]
  },
  {
   "cell_type": "code",
   "execution_count": 23,
   "metadata": {},
   "outputs": [],
   "source": [
    "import re\n",
    "\n",
    "df_try = unify_suffix_columns(df_check)\n"
   ]
  },
  {
   "cell_type": "code",
   "execution_count": 24,
   "metadata": {},
   "outputs": [
    {
     "data": {
      "text/plain": [
       "(8, 189)"
      ]
     },
     "execution_count": 24,
     "metadata": {},
     "output_type": "execute_result"
    }
   ],
   "source": [
    "df_try.shape"
   ]
  },
  {
   "cell_type": "code",
   "execution_count": 25,
   "metadata": {},
   "outputs": [
    {
     "data": {
      "text/plain": [
       "['adjuntar_evidencia_de_cursos_de_nivel_de_ingles',\n",
       " 'adjuntar_la_documentacion_de_los_visados_anteriores',\n",
       " 'adjuntar_copia_de_tu_documento_nacional_de_identidad_o_cedula_de_identidad',\n",
       " 'adjuntar_family_ties',\n",
       " 'adjuntar_tu_seguro_actual']"
      ]
     },
     "execution_count": 25,
     "metadata": {},
     "output_type": "execute_result"
    }
   ],
   "source": [
    "list_missing = list(set(df_check.columns) - set(df_try.columns))\n",
    "[i for i in list_missing if 'adj' in i]"
   ]
  },
  {
   "cell_type": "code",
   "execution_count": 42,
   "metadata": {},
   "outputs": [
    {
     "data": {
      "text/plain": [
       "['pais',\n",
       " 'telefono_de_contacto_del_empleador_con_prefijo',\n",
       " 'numero_telefono_en_tu_pais_de_residencia_habitual',\n",
       " 'estado_o_provincia_en_donde_naciste',\n",
       " 'has_estado_previamente_en_australia',\n",
       " 'institucion_escuela_universidad',\n",
       " 'tipo_de_industria',\n",
       " 'adjuntar_copia_de_tu_documento_nacional_de_identidad_o_cedula_de_identidad',\n",
       " 'fecha_de_expedicion',\n",
       " 'entrada']"
      ]
     },
     "execution_count": 42,
     "metadata": {},
     "output_type": "execute_result"
    }
   ],
   "source": [
    "list_missing[10:20]"
   ]
  },
  {
   "cell_type": "code",
   "execution_count": 43,
   "metadata": {},
   "outputs": [
    {
     "data": {
      "text/plain": [
       "['tipo_de_industria_te', 'tipo_de_industria']"
      ]
     },
     "execution_count": 43,
     "metadata": {},
     "output_type": "execute_result"
    }
   ],
   "source": [
    "[i for i in df_all.columns if 'tipo_de_industria' in i]"
   ]
  },
  {
   "cell_type": "code",
   "execution_count": 44,
   "metadata": {},
   "outputs": [
    {
     "data": {
      "text/html": [
       "<div>\n",
       "<style scoped>\n",
       "    .dataframe tbody tr th:only-of-type {\n",
       "        vertical-align: middle;\n",
       "    }\n",
       "\n",
       "    .dataframe tbody tr th {\n",
       "        vertical-align: top;\n",
       "    }\n",
       "\n",
       "    .dataframe thead th {\n",
       "        text-align: right;\n",
       "    }\n",
       "</style>\n",
       "<table border=\"1\" class=\"dataframe\">\n",
       "  <thead>\n",
       "    <tr style=\"text-align: right;\">\n",
       "      <th></th>\n",
       "      <th>tipo_de_industria_te</th>\n",
       "      <th>tipo_de_industria</th>\n",
       "    </tr>\n",
       "  </thead>\n",
       "  <tbody>\n",
       "    <tr>\n",
       "      <th>0</th>\n",
       "      <td>GESTIÓN DE TRÁNSITO</td>\n",
       "      <td>CONSTRUCCION</td>\n",
       "    </tr>\n",
       "    <tr>\n",
       "      <th>1</th>\n",
       "      <td>LABORATORIO FARMACEUTICO</td>\n",
       "      <td>FARMACEUTICA</td>\n",
       "    </tr>\n",
       "    <tr>\n",
       "      <th>2</th>\n",
       "      <td>Retail</td>\n",
       "      <td>No se ha subido ninguna respuesta.</td>\n",
       "    </tr>\n",
       "    <tr>\n",
       "      <th>3</th>\n",
       "      <td>Minera</td>\n",
       "      <td>None</td>\n",
       "    </tr>\n",
       "    <tr>\n",
       "      <th>4</th>\n",
       "      <td>Cleaning</td>\n",
       "      <td>cleaning construction</td>\n",
       "    </tr>\n",
       "    <tr>\n",
       "      <th>5</th>\n",
       "      <td>FERRETERA</td>\n",
       "      <td>FERRETERO; 21</td>\n",
       "    </tr>\n",
       "    <tr>\n",
       "      <th>6</th>\n",
       "      <td>Aged Care</td>\n",
       "      <td>Salud</td>\n",
       "    </tr>\n",
       "    <tr>\n",
       "      <th>7</th>\n",
       "      <td>HOSPITALITY</td>\n",
       "      <td>HOSPITALITY</td>\n",
       "    </tr>\n",
       "  </tbody>\n",
       "</table>\n",
       "</div>"
      ],
      "text/plain": [
       "       tipo_de_industria_te                   tipo_de_industria\n",
       "0       GESTIÓN DE TRÁNSITO                        CONSTRUCCION\n",
       "1  LABORATORIO FARMACEUTICO                        FARMACEUTICA\n",
       "2                    Retail  No se ha subido ninguna respuesta.\n",
       "3                    Minera                                None\n",
       "4                  Cleaning               cleaning construction\n",
       "5                 FERRETERA                       FERRETERO; 21\n",
       "6                 Aged Care                               Salud\n",
       "7               HOSPITALITY                         HOSPITALITY"
      ]
     },
     "execution_count": 44,
     "metadata": {},
     "output_type": "execute_result"
    }
   ],
   "source": [
    "f = 'tipo_de_industria'\n",
    "df_check[[i for i in df_check.columns if f in i]]"
   ]
  },
  {
   "cell_type": "code",
   "execution_count": 40,
   "metadata": {},
   "outputs": [
    {
     "data": {
      "text/html": [
       "<div>\n",
       "<style scoped>\n",
       "    .dataframe tbody tr th:only-of-type {\n",
       "        vertical-align: middle;\n",
       "    }\n",
       "\n",
       "    .dataframe tbody tr th {\n",
       "        vertical-align: top;\n",
       "    }\n",
       "\n",
       "    .dataframe thead th {\n",
       "        text-align: right;\n",
       "    }\n",
       "</style>\n",
       "<table border=\"1\" class=\"dataframe\">\n",
       "  <thead>\n",
       "    <tr style=\"text-align: right;\">\n",
       "      <th></th>\n",
       "      <th>codigo_postal_ddc</th>\n",
       "    </tr>\n",
       "  </thead>\n",
       "  <tbody>\n",
       "    <tr>\n",
       "      <th>0</th>\n",
       "      <td>05000</td>\n",
       "    </tr>\n",
       "    <tr>\n",
       "      <th>1</th>\n",
       "      <td>092302</td>\n",
       "    </tr>\n",
       "    <tr>\n",
       "      <th>2</th>\n",
       "      <td>48902</td>\n",
       "    </tr>\n",
       "    <tr>\n",
       "      <th>3</th>\n",
       "      <td>34224</td>\n",
       "    </tr>\n",
       "    <tr>\n",
       "      <th>4</th>\n",
       "      <td>730000</td>\n",
       "    </tr>\n",
       "    <tr>\n",
       "      <th>5</th>\n",
       "      <td>04009</td>\n",
       "    </tr>\n",
       "    <tr>\n",
       "      <th>6</th>\n",
       "      <td>7750000</td>\n",
       "    </tr>\n",
       "    <tr>\n",
       "      <th>7</th>\n",
       "      <td>520001</td>\n",
       "    </tr>\n",
       "  </tbody>\n",
       "</table>\n",
       "</div>"
      ],
      "text/plain": [
       "  codigo_postal_ddc\n",
       "0             05000\n",
       "1            092302\n",
       "2             48902\n",
       "3             34224\n",
       "4            730000\n",
       "5             04009\n",
       "6           7750000\n",
       "7            520001"
      ]
     },
     "execution_count": 40,
     "metadata": {},
     "output_type": "execute_result"
    }
   ],
   "source": [
    "df_try[[i for i in df_try.columns if f in i]]"
   ]
  },
  {
   "cell_type": "code",
   "execution_count": 30,
   "metadata": {},
   "outputs": [
    {
     "data": {
      "text/plain": [
       "['adjuntar_evidencia_de_cursos_de_nivel_de_ingles_ds']"
      ]
     },
     "execution_count": 30,
     "metadata": {},
     "output_type": "execute_result"
    }
   ],
   "source": [
    "adjuntar_cols = [i for i in df_try.columns if 'adjuntar' in i]\n",
    "[i for i in adjuntar_cols if 'ingles' in i]"
   ]
  },
  {
   "cell_type": "code",
   "execution_count": 37,
   "metadata": {},
   "outputs": [
    {
     "data": {
      "text/plain": [
       "'Indica cada fecha en el orden listado. Si no recuerdas el día, selecciona el mes y año correcto con; el día \"1\" e indícalo con un comentario desde el botón \"Dudas?\"; Senegal; Portugal; Italia; Francia; Marruecos; 28/6/2017; 1/8/2019; 14/10/2023; 3/12/2023; 29/1/2024'"
      ]
     },
     "execution_count": 37,
     "metadata": {},
     "output_type": "execute_result"
    }
   ],
   "source": [
    "df_all['salida'].loc[2]"
   ]
  },
  {
   "cell_type": "code",
   "execution_count": null,
   "metadata": {},
   "outputs": [],
   "source": []
  }
 ],
 "metadata": {
  "kernelspec": {
   "display_name": "Python 3",
   "language": "python",
   "name": "python3"
  },
  "language_info": {
   "codemirror_mode": {
    "name": "ipython",
    "version": 3
   },
   "file_extension": ".py",
   "mimetype": "text/x-python",
   "name": "python",
   "nbconvert_exporter": "python",
   "pygments_lexer": "ipython3",
   "version": "3.11.5"
  }
 },
 "nbformat": 4,
 "nbformat_minor": 2
}
