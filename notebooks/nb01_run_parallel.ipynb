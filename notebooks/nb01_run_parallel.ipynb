{
 "cells": [
  {
   "cell_type": "code",
   "execution_count": null,
   "metadata": {},
   "outputs": [],
   "source": [
    "from run_parallel import process_parallel_bold\n",
    "import pandas as pd\n",
    "import logging\n",
    "\n",
    "# Silence pdfminer and pdfplumber logs\n",
    "logging.getLogger(\"pdfminer\").setLevel(logging.ERROR)\n",
    "logging.getLogger(\"pdfplumber\").setLevel(logging.ERROR)"
   ]
  },
  {
   "cell_type": "code",
   "execution_count": null,
   "metadata": {},
   "outputs": [],
   "source": [
    "pd.set_option('display.max_columns', None)\n",
    "pd.set_option('display.max_rows', None)"
   ]
  },
  {
   "cell_type": "code",
   "execution_count": null,
   "metadata": {},
   "outputs": [],
   "source": [
    "\n",
    "df_all_granted, dic_questions = process_parallel_bold('data/granted/')\n",
    "df_all_granted['final_visa_status'] = 'granted'\n",
    "\n",
    "df_all_refused, dic_questions = process_parallel_bold('data/refused/',\n",
    "                                field_order=list(dic_questions.keys()),\n",
    "                                field_labels=dic_questions)\n",
    "df_all_refused['final_visa_status'] = 'refused'"
   ]
  },
  {
   "cell_type": "code",
   "execution_count": null,
   "metadata": {},
   "outputs": [],
   "source": [
    "print('df_all_granted',df_all_granted.shape)\n",
    "print('df_all_refused',df_all_refused.shape)\n",
    "\n",
    "df_all = pd.concat([df_all_granted,df_all_refused]).reset_index(drop=True)\n",
    "\n",
    "print('df_all',df_all.shape)"
   ]
  },
  {
   "cell_type": "code",
   "execution_count": null,
   "metadata": {},
   "outputs": [],
   "source": [
    "def postprocess_df(df: pd.DataFrame) -> pd.DataFrame:\n",
    "    \"\"\"\n",
    "    Post-procesa las celdas que contienen ';' de la siguiente manera:\n",
    "      - Separa la cadena por ';'\n",
    "      - Si el último segmento es un entero <100 y el penúltimo es 'si', 'no' o 'yes',\n",
    "        devuelve el penúltimo.\n",
    "      - En cualquier otro caso (incluyendo cuando no se cumplan esas condiciones),\n",
    "        devuelve el valor original.\n",
    "    \"\"\"\n",
    "    def _clean_cell(v):\n",
    "        if isinstance(v, str) and ';' in v:\n",
    "            parts = [p.strip() for p in v.split(';') if p.strip()]\n",
    "            if len(parts) >= 2:\n",
    "                last = parts[-1]\n",
    "                try:\n",
    "                    num = int(last)\n",
    "                    penult = parts[-2].lower()\n",
    "                    if num < 100 and penult in ('si', 'no', 'yes'):\n",
    "                        return parts[-2]  # devolvemos penúltimo con su mayúsc/minúsc original\n",
    "                    else:\n",
    "                        if last in ('si', 'no', 'yes'):\n",
    "                            return last\n",
    "                        else:\n",
    "                            return v\n",
    "                except ValueError:\n",
    "                    # si el último no es número, devolvemos el valor original completo\n",
    "                    return v\n",
    "        return v\n",
    "\n",
    "    return df.applymap(_clean_cell)\n",
    "\n",
    "def unify_suffix_columns(df: pd.DataFrame) -> pd.DataFrame:\n",
    "    \"\"\"\n",
    "    Para cada par de columnas base / base_<suffix>:\n",
    "      - Rellena los NaN de 'base_<suffix>' con los valores de 'base'\n",
    "      - Elimina luego la columna 'base'\n",
    "    \"\"\"\n",
    "    to_drop = []\n",
    "    # Iteramos sobre una copia de los nombres\n",
    "    for col in list(df.columns):\n",
    "        if \"_\" not in col:\n",
    "            continue\n",
    "        base, suffix = col.rsplit(\"_\", 1)\n",
    "        # si existe la columna base, unimos y marcamos para borrar la base\n",
    "        if base in df.columns:\n",
    "            df[col] = df[col].fillna(df[base])\n",
    "            to_drop.append(base)\n",
    "    return df.drop(columns=to_drop, errors=\"ignore\")"
   ]
  },
  {
   "cell_type": "code",
   "execution_count": null,
   "metadata": {},
   "outputs": [],
   "source": [
    "df_check = postprocess_df(df_all)"
   ]
  },
  {
   "cell_type": "code",
   "execution_count": null,
   "metadata": {},
   "outputs": [],
   "source": [
    "import re\n",
    "\n",
    "df_try = unify_suffix_columns(df_check)\n"
   ]
  },
  {
   "cell_type": "code",
   "execution_count": null,
   "metadata": {},
   "outputs": [],
   "source": [
    "df_try.shape"
   ]
  },
  {
   "cell_type": "code",
   "execution_count": null,
   "metadata": {},
   "outputs": [],
   "source": [
    "list_missing = list(set(df_check.columns) - set(df_try.columns))\n",
    "[i for i in list_missing if 'adj' in i]"
   ]
  },
  {
   "cell_type": "code",
   "execution_count": null,
   "metadata": {},
   "outputs": [],
   "source": [
    "list_missing[10:20]"
   ]
  },
  {
   "cell_type": "code",
   "execution_count": null,
   "metadata": {},
   "outputs": [],
   "source": [
    "[i for i in df_all.columns if 'tipo_de_industria' in i]"
   ]
  },
  {
   "cell_type": "code",
   "execution_count": null,
   "metadata": {},
   "outputs": [],
   "source": [
    "f = 'tipo_de_industria'\n",
    "df_check[[i for i in df_check.columns if f in i]]"
   ]
  },
  {
   "cell_type": "code",
   "execution_count": null,
   "metadata": {},
   "outputs": [],
   "source": [
    "df_try[[i for i in df_try.columns if f in i]]"
   ]
  },
  {
   "cell_type": "code",
   "execution_count": null,
   "metadata": {},
   "outputs": [],
   "source": [
    "adjuntar_cols = [i for i in df_try.columns if 'adjuntar' in i]\n",
    "[i for i in adjuntar_cols if 'ingles' in i]"
   ]
  },
  {
   "cell_type": "code",
   "execution_count": null,
   "metadata": {},
   "outputs": [],
   "source": [
    "df_all['salida'].loc[2]"
   ]
  },
  {
   "cell_type": "code",
   "execution_count": null,
   "metadata": {},
   "outputs": [],
   "source": []
  }
 ],
 "metadata": {
  "kernelspec": {
   "display_name": "Python 3",
   "language": "python",
   "name": "python3"
  },
  "language_info": {
   "codemirror_mode": {
    "name": "ipython",
    "version": 3
   },
   "file_extension": ".py",
   "mimetype": "text/x-python",
   "name": "python",
   "nbconvert_exporter": "python",
   "pygments_lexer": "ipython3",
   "version": "3.11.5"
  }
 },
 "nbformat": 4,
 "nbformat_minor": 2
}
