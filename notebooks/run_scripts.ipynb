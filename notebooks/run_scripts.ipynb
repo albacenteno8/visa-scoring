{
 "cells": [
  {
   "cell_type": "code",
   "execution_count": null,
   "metadata": {},
   "outputs": [],
   "source": [
    "%cd .."
   ]
  },
  {
   "cell_type": "code",
   "execution_count": null,
   "metadata": {},
   "outputs": [],
   "source": [
    "import pandas as pd\n",
    "from src.read_pdfs_v2 import process_applications\n",
    "from src.preprocess_table_inmi import preprocess_applications_df\n",
    "from src.model_training import train_model"
   ]
  },
  {
   "cell_type": "code",
   "execution_count": null,
   "metadata": {},
   "outputs": [],
   "source": [
    "df_grant_list = pd.read_csv('data_headers/header_Grant.csv')\n",
    "df_ref_list = pd.read_csv('data_headers/header_Refusal.csv')\n",
    "\n",
    "headers_list = list(set(df_grant_list.super_header.tolist() + df_ref_list.super_header.tolist()))\n",
    "\n",
    "type_case = 'Grant'\n",
    "##list_headers_g = scan_folder_and_save_csv('data_all/Info Students/'+type_case, 'header_'+type_case+'.csv', check_folders = 500)\n",
    "df_g = process_applications('data_all/Info Students/'+type_case,headers_list, check_folders = None)\n",
    "\n",
    "type_case = 'Refusal'\n",
    "#list_headers_r = scan_folder_and_save_csv('data_all/Info Students/'+type_case, 'header_'+type_case+'.csv',check_folders = 300)\n",
    "df_r = process_applications('data_all/Info Students/'+type_case,headers_list, check_folders = None)"
   ]
  },
  {
   "cell_type": "code",
   "execution_count": null,
   "metadata": {},
   "outputs": [],
   "source": [
    "df_g['type_case'] = 'granted'\n",
    "df_r['type_case'] = 'refused'\n",
    "df_cases = pd.concat([df_g,df_r])\n",
    "df_cases.to_csv('data_scripts/data_onevisa_s.csv', index=True)\n",
    "df_cases.shape"
   ]
  },
  {
   "cell_type": "code",
   "execution_count": null,
   "metadata": {},
   "outputs": [],
   "source": [
    "df_cases = pd.read_csv('data_scripts/data_onevisa_s.csv').set_index('sample_id')"
   ]
  },
  {
   "cell_type": "code",
   "execution_count": null,
   "metadata": {},
   "outputs": [],
   "source": [
    "df_preprocess = preprocess_applications_df(df_cases)"
   ]
  },
  {
   "cell_type": "code",
   "execution_count": null,
   "metadata": {},
   "outputs": [],
   "source": [
    "df_preprocess = df_preprocess.reset_index()"
   ]
  },
  {
   "cell_type": "code",
   "execution_count": null,
   "metadata": {},
   "outputs": [],
   "source": [
    "model_xgb, df_pred_xgb = train_model(df_preprocess, model_type ='xgboost',\n",
    "                                     target_col='type_case', threshold=0.25)\n"
   ]
  },
  {
   "cell_type": "code",
   "execution_count": null,
   "metadata": {},
   "outputs": [],
   "source": []
  }
 ],
 "metadata": {
  "kernelspec": {
   "display_name": "Python 3",
   "language": "python",
   "name": "python3"
  },
  "language_info": {
   "codemirror_mode": {
    "name": "ipython",
    "version": 3
   },
   "file_extension": ".py",
   "mimetype": "text/x-python",
   "name": "python",
   "nbconvert_exporter": "python",
   "pygments_lexer": "ipython3",
   "version": "3.11.5"
  }
 },
 "nbformat": 4,
 "nbformat_minor": 2
}
