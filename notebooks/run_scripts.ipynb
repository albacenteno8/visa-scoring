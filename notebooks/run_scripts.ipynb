{
 "cells": [
  {
   "cell_type": "code",
   "execution_count": 1,
   "metadata": {},
   "outputs": [
    {
     "name": "stdout",
     "output_type": "stream",
     "text": [
      "/Users/albafranco/Documents/Python/visa-scoring\n"
     ]
    }
   ],
   "source": [
    "%cd .."
   ]
  },
  {
   "cell_type": "code",
   "execution_count": 2,
   "metadata": {},
   "outputs": [
    {
     "name": "stderr",
     "output_type": "stream",
     "text": [
      "/Library/Frameworks/Python.framework/Versions/3.11/lib/python3.11/site-packages/paddle/utils/cpp_extension/extension_utils.py:711: UserWarning: No ccache found. Please be aware that recompiling all source files may be required. You can download and install ccache from: https://github.com/ccache/ccache/blob/master/doc/INSTALL.md\n",
      "  warnings.warn(warning_message)\n"
     ]
    }
   ],
   "source": [
    "import pandas as pd\n",
    "from src.read_pdfs_v2 import process_applications\n",
    "from src.preprocess_table_inmi import preprocess_applications_df\n",
    "from src.model_training import train_model"
   ]
  },
  {
   "cell_type": "code",
   "execution_count": 3,
   "metadata": {},
   "outputs": [
    {
     "name": "stdout",
     "output_type": "stream",
     "text": [
      "Starting application processing...\n"
     ]
    },
    {
     "name": "stderr",
     "output_type": "stream",
     "text": [
      "Cases:  58%|█████▊    | 5382/9315 [17:34<07:14,  9.04it/s]  "
     ]
    },
    {
     "name": "stdout",
     "output_type": "stream",
     "text": [
      "MuPDF error: syntax error: cannot load shading function (2233 0 R)\n",
      "\n",
      "MuPDF error: syntax error: cannot load shading function (2233 0 R)\n",
      "\n",
      "MuPDF error: syntax error: cannot load shading function (2233 0 R)\n",
      "\n",
      "MuPDF error: syntax error: cannot load shading function (2233 0 R)\n",
      "\n",
      "MuPDF error: syntax error: cannot load shading function (2233 0 R)\n",
      "\n",
      "MuPDF error: syntax error: cannot load shading function (2233 0 R)\n",
      "\n",
      "MuPDF error: syntax error: cannot load shading function (2233 0 R)\n",
      "\n",
      "MuPDF error: syntax error: cannot load shading function (2233 0 R)\n",
      "\n",
      "MuPDF error: syntax error: cannot load shading function (2233 0 R)\n",
      "\n",
      "MuPDF error: syntax error: cannot load shading function (2233 0 R)\n",
      "\n",
      "MuPDF error: syntax error: cannot load shading function (2233 0 R)\n",
      "\n",
      "MuPDF error: syntax error: cannot load shading function (2233 0 R)\n",
      "\n",
      "MuPDF error: syntax error: cannot load shading function (2233 0 R)\n",
      "\n",
      "MuPDF error: syntax error: cannot load shading function (2233 0 R)\n",
      "\n",
      "MuPDF error: syntax error: cannot load shading function (2233 0 R)\n",
      "\n",
      "MuPDF error: syntax error: cannot load shading function (2233 0 R)\n",
      "\n",
      "MuPDF error: syntax error: cannot load shading function (2233 0 R)\n",
      "\n"
     ]
    },
    {
     "name": "stderr",
     "output_type": "stream",
     "text": [
      "Cases: 100%|██████████| 9315/9315 [29:27<00:00,  5.27it/s]\n"
     ]
    },
    {
     "name": "stdout",
     "output_type": "stream",
     "text": [
      "Finished processing. Total applications processed: 6741\n",
      "Starting application processing...\n"
     ]
    },
    {
     "name": "stderr",
     "output_type": "stream",
     "text": [
      "Cases: 100%|██████████| 740/740 [02:23<00:00,  5.17it/s]\n"
     ]
    },
    {
     "name": "stdout",
     "output_type": "stream",
     "text": [
      "Finished processing. Total applications processed: 595\n"
     ]
    }
   ],
   "source": [
    "df_grant_list = pd.read_csv('data_headers/header_Grant.csv')\n",
    "df_ref_list = pd.read_csv('data_headers/header_Refusal.csv')\n",
    "\n",
    "headers_list = list(set(df_grant_list.super_header.tolist() + df_ref_list.super_header.tolist()))\n",
    "\n",
    "type_case = 'Grant'\n",
    "##list_headers_g = scan_folder_and_save_csv('data_all/Info Students/'+type_case, 'header_'+type_case+'.csv', check_folders = 500)\n",
    "df_g = process_applications('data_all/Info Students/'+type_case,headers_list, check_folders = None)\n",
    "\n",
    "type_case = 'Refusal'\n",
    "#list_headers_r = scan_folder_and_save_csv('data_all/Info Students/'+type_case, 'header_'+type_case+'.csv',check_folders = 300)\n",
    "df_r = process_applications('data_all/Info Students/'+type_case,headers_list, check_folders = None)"
   ]
  },
  {
   "cell_type": "code",
   "execution_count": null,
   "metadata": {},
   "outputs": [
    {
     "data": {
      "text/plain": [
       "(7336, 4662)"
      ]
     },
     "execution_count": 4,
     "metadata": {},
     "output_type": "execute_result"
    }
   ],
   "source": [
    "df_g['type_case'] = 'granted'\n",
    "df_r['type_case'] = 'refused'\n",
    "df_cases = pd.concat([df_g,df_r])\n",
    "df_cases.to_csv('data_scripts/data_onevisa_s.csv', index=True)\n",
    "df_cases.shape"
   ]
  },
  {
   "cell_type": "code",
   "execution_count": 3,
   "metadata": {},
   "outputs": [],
   "source": [
    "df_cases = pd.read_csv('data_scripts/data_onevisa_s.csv').set_index('sample_id')"
   ]
  },
  {
   "cell_type": "code",
   "execution_count": 4,
   "metadata": {},
   "outputs": [
    {
     "name": "stdout",
     "output_type": "stream",
     "text": [
      "Step 1: Dropping all-null rows...\n",
      "Remaining rows: 7336\n",
      "Step 2: Dropping rows where all key counts are zero...\n",
      "Remaining rows after drop: 6749\n",
      "Step 3: Keeping rows with non-null 'current_location_ac_cl'...\n",
      "Remaining rows: 6742\n",
      "Step 4: Dropping columns that are fully NaN...\n",
      "Remaining columns: 607\n",
      "Step 5: Unifying mutually exclusive columns...\n",
      "Step 6: Summary of unique values and NaNs...\n",
      "Step 7: Cleaning and converting 'generated' field...\n",
      "Step 8: Dropping object columns with >80% unique values...\n",
      "Remaining columns: 594\n",
      "Step 9: Dropping date columns with >80% missing values...\n",
      "Remaining columns after dropping sparse dates: 551\n",
      "Step 10: Filtering incorrect date entries...\n",
      "Step 11: Dropping explicit date ranges...\n",
      "Step 12: Converting remaining date columns to time deltas...\n",
      "Step 13: Adding 'days_from_today' field...\n",
      "Step 15: Removing postal code, mobile phone and passport number columns...\n",
      "No columns with mixed data types found.\n",
      "Final shape of the preprocessed dataset: (6742, 507)\n"
     ]
    }
   ],
   "source": [
    "df_preprocess = preprocess_applications_df(df_cases)"
   ]
  },
  {
   "cell_type": "code",
   "execution_count": 5,
   "metadata": {},
   "outputs": [],
   "source": [
    "df_preprocess = df_preprocess.reset_index()"
   ]
  },
  {
   "cell_type": "code",
   "execution_count": 10,
   "metadata": {},
   "outputs": [
    {
     "name": "stdout",
     "output_type": "stream",
     "text": [
      "Preparing data...\n",
      "Encoding categorical columns with OrdinalEncoder for XGBoost...\n",
      "Splitting data into train/test sets...\n",
      "Training XGBoostClassifier...\n",
      "Evaluating model (threshold = 0.5)...\n",
      "Accuracy:  0.933\n",
      "Precision: 0.945\n",
      "Recall:    0.983\n",
      "\n",
      "Full classification report:\n",
      "               precision    recall  f1-score   support\n",
      "\n",
      "     granted       0.95      0.98      0.96      1235\n",
      "     refused       0.68      0.39      0.49       114\n",
      "\n",
      "    accuracy                           0.93      1349\n",
      "   macro avg       0.81      0.68      0.73      1349\n",
      "weighted avg       0.92      0.93      0.92      1349\n",
      "\n",
      "Median predicted probabilities:\n",
      "Prob Refused of refused:  %.3f 0.36937124\n",
      "Prob Granted of refused:  %.3f 0.63062876\n",
      "Prob Refused of granted:  %.3f 0.021869104\n",
      "Prob Granted of granted:  %.3f 0.9781309\n",
      "Evaluating with custom threshold = 0.25...\n",
      "Thresholded Accuracy:  0.929\n",
      "Thresholded Precision: 0.961\n",
      "Thresholded Recall:    0.961\n",
      "\n",
      "Full classification report (with threshold):\n",
      "               precision    recall  f1-score   support\n",
      "\n",
      "     granted       0.96      0.96      0.96      1235\n",
      "     refused       0.58      0.58      0.58       114\n",
      "\n",
      "    accuracy                           0.93      1349\n",
      "   macro avg       0.77      0.77      0.77      1349\n",
      "weighted avg       0.93      0.93      0.93      1349\n",
      "\n",
      "Confusion Matrix:\n",
      "%s                 predicted_granted  predicted_refused\n",
      "actual_granted               1187                 48\n",
      "actual_refused                 48                 66\n"
     ]
    }
   ],
   "source": [
    "model_xgb, df_pred_xgb = train_model(df_preprocess, model_type ='xgboost',\n",
    "                                     target_col='type_case', threshold=0.25)\n"
   ]
  },
  {
   "cell_type": "code",
   "execution_count": null,
   "metadata": {},
   "outputs": [],
   "source": []
  }
 ],
 "metadata": {
  "kernelspec": {
   "display_name": "Python 3",
   "language": "python",
   "name": "python3"
  },
  "language_info": {
   "codemirror_mode": {
    "name": "ipython",
    "version": 3
   },
   "file_extension": ".py",
   "mimetype": "text/x-python",
   "name": "python",
   "nbconvert_exporter": "python",
   "pygments_lexer": "ipython3",
   "version": "3.11.5"
  }
 },
 "nbformat": 4,
 "nbformat_minor": 2
}
