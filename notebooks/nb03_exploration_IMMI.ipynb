{
 "cells": [
  {
   "cell_type": "code",
   "execution_count": 1,
   "metadata": {},
   "outputs": [
    {
     "name": "stderr",
     "output_type": "stream",
     "text": [
      "/Library/Frameworks/Python.framework/Versions/3.11/lib/python3.11/site-packages/paddle/utils/cpp_extension/extension_utils.py:711: UserWarning: No ccache found. Please be aware that recompiling all source files may be required. You can download and install ccache from: https://github.com/ccache/ccache/blob/master/doc/INSTALL.md\n",
      "  warnings.warn(warning_message)\n"
     ]
    }
   ],
   "source": [
    "import os\n",
    "import fitz  # PyMuPDF\n",
    "import cv2\n",
    "import numpy as np\n",
    "import pandas as pd\n",
    "from paddleocr import PaddleOCR\n",
    "from tqdm import tqdm\n",
    "import re\n",
    "import unicodedata"
   ]
  },
  {
   "cell_type": "code",
   "execution_count": 46,
   "metadata": {},
   "outputs": [],
   "source": [
    "pd.set_option('display.max_columns', None)\n",
    "pd.set_option('display.max_rows', None)"
   ]
  },
  {
   "cell_type": "code",
   "execution_count": 3,
   "metadata": {},
   "outputs": [],
   "source": [
    "# initialize Paddle\n",
    "ocr = PaddleOCR(use_angle_cls=True, lang='en',show_log=False)\n",
    "\n",
    "def extract_banners_from_pdf(pdf_path):\n",
    "    super_headers = []\n",
    "\n",
    "    doc = fitz.open(pdf_path)\n",
    "    for page in doc:\n",
    "        # Render page -> image\n",
    "        pix = page.get_pixmap(dpi=200)\n",
    "        img = np.frombuffer(pix.samples, dtype=np.uint8).reshape(pix.h, pix.w, pix.n)\n",
    "        if pix.n == 4:\n",
    "            img = cv2.cvtColor(img, cv2.COLOR_BGRA2BGR)\n",
    "\n",
    "        gray = cv2.cvtColor(img, cv2.COLOR_BGR2GRAY)\n",
    "        _, thresh = cv2.threshold(gray, 50, 255, cv2.THRESH_BINARY_INV)\n",
    "        cnts, _ = cv2.findContours(thresh, cv2.RETR_EXTERNAL, cv2.CHAIN_APPROX_SIMPLE)\n",
    "\n",
    "        for cnt in cnts:\n",
    "            x,y,w,h = cv2.boundingRect(cnt)\n",
    "            if w < 200 or h < 20:\n",
    "                continue\n",
    "            crop = img[y:y+h, x:x+w]\n",
    "            black_ratio = cv2.countNonZero(thresh[y:y+h, x:x+w]) / float(w*h)\n",
    "            if black_ratio < 0.6:\n",
    "                continue\n",
    "\n",
    "            inv = cv2.bitwise_not(crop)\n",
    "            try:\n",
    "                result = ocr.ocr(inv, cls=True)\n",
    "            except Exception:\n",
    "                continue\n",
    "            if not result:\n",
    "                continue\n",
    "\n",
    "            # Safely extract all recognized text lines\n",
    "            lines = []\n",
    "            for block in result:\n",
    "                if not block:\n",
    "                    continue\n",
    "                for line in block:\n",
    "                    # line is typically [ [x1,y1], [text, conf], ... ]\n",
    "                    if len(line) >= 2 and isinstance(line[1], (list, tuple)):\n",
    "                        lines.append(line[1][0])\n",
    "            text = \" \".join(lines).strip()\n",
    "            if not text:\n",
    "                continue\n",
    "\n",
    "            # classify banner size\n",
    "            if h > 50:\n",
    "                super_headers.append(text)\n",
    "\n",
    "    # dedupe while preserving order\n",
    "    uniq_super = list(dict.fromkeys(super_headers))\n",
    "\n",
    "    return uniq_super\n",
    "\n",
    "def scan_folder_and_save_csv(root_folder : str, out_headers : str, check_folders : int = None):\n",
    "    all_super = []\n",
    "    \n",
    "    if check_folders is not None:\n",
    "        list_items = list(set(os.listdir(root_folder)) - set(['.DS_Store']))[0:check_folders]\n",
    "    else:\n",
    "        list_items = list(set(os.listdir(root_folder)) - set(['.DS_Store']))\n",
    "\n",
    "    for case in tqdm(sorted(list_items), desc=\"Folders\"):\n",
    "        case_path = os.path.join(root_folder, case)\n",
    "        if not os.path.isdir(case_path):\n",
    "            continue\n",
    "        # find the application PDF\n",
    "        excludes = {'acknowledgement', 'withdrawal', 'bvb', 'rdv', 'passport','summary'}\n",
    "        pdfs = [f for f in os.listdir(case_path) if (name := f.lower()).endswith(\".pdf\")\n",
    "                and \"application\" in name and not any(ex in name for ex in excludes)]\n",
    "        if not pdfs:\n",
    "            continue\n",
    "        pdf_path = os.path.join(case_path, pdfs[0])\n",
    "        sh = extract_banners_from_pdf(pdf_path)\n",
    "        all_super.extend(sh)\n",
    "    \n",
    "    # dedupe\n",
    "    uniq_super = sorted(set(all_super))\n",
    "    \n",
    "    # save\n",
    "    pd.Series(uniq_super, name=\"super_header\").to_csv(out_headers, index=False)\n",
    "    \n",
    "    print(f\"Saved {len(uniq_super)} super‐headers to {out_headers}\")\n",
    "    return uniq_super"
   ]
  },
  {
   "cell_type": "code",
   "execution_count": 4,
   "metadata": {},
   "outputs": [],
   "source": [
    "def slugify(text: str) -> str:\n",
    "    t = unicodedata.normalize(\"NFKD\", text)\n",
    "    t = \"\".join(c for c in t if not unicodedata.combining(c))\n",
    "    t = t.lower()\n",
    "    return re.sub(r\"[^a-z0-9]+\", \"_\", t).strip(\"_\")\n",
    "\n",
    "def initials(text: str) -> str:\n",
    "    return \"\".join(w[0] for w in text.split() if w).lower()\n",
    "\n",
    "def process_applications(root_folder: str, subheaders_list: list[str], check_folders : int = None):\n",
    "    sub_set = {s.lower() for s in subheaders_list}\n",
    "\n",
    "    rows = []\n",
    "    if check_folders is not None: \n",
    "        list_items = list(set(os.listdir(root_folder)) - set(['.DS_Store']))[0:check_folders]\n",
    "    else:\n",
    "        list_items = list(set(os.listdir(root_folder)) - set(['.DS_Store']))\n",
    "\n",
    "    for case in tqdm(sorted(list_items), desc=\"Cases\"):\n",
    "        case_path = os.path.join(root_folder, case)\n",
    "        if not os.path.isdir(case_path):\n",
    "            continue\n",
    "\n",
    "        # find application PDF\n",
    "        app_pdf = None\n",
    "        excludes = {'acknowledgement', 'withdrawal', 'bvb', 'passport', 'summary'}\n",
    "        for fn in os.listdir(case_path):\n",
    "            low = fn.lower()\n",
    "            if ( \"application\" in low and low.endswith(\".pdf\")  and not any(ex in low for ex in excludes)):\n",
    "                app_pdf = os.path.join(case_path, fn)\n",
    "                break\n",
    "        if not app_pdf:\n",
    "            continue\n",
    "\n",
    "        # collect all spans\n",
    "        doc = fitz.open(app_pdf)\n",
    "        spans = []\n",
    "        for page in doc:\n",
    "            for block in page.get_text(\"dict\")[\"blocks\"]:\n",
    "                if block[\"type\"] != 0:\n",
    "                    continue\n",
    "                for line in block[\"lines\"]:\n",
    "                    for span in line[\"spans\"]:\n",
    "                        font = span.get(\"font\", span.get(\"fontname\", \"\")).lower()\n",
    "                        spans.append({\n",
    "                            \"text\": span[\"text\"].strip(),\n",
    "                            \"size\": round(span[\"size\"], 1),\n",
    "                            \"flags\": span[\"flags\"],\n",
    "                            \"font\": font,\n",
    "                        })\n",
    "\n",
    "        # counters\n",
    "        ofm_count = 0\n",
    "        cv_count = 0\n",
    "        ehd_count = 0\n",
    "\n",
    "        # count occurrences of Employment history details anywhere\n",
    "        for s in spans:\n",
    "            if s[\"text\"].strip().lower() == \"employment history details\":\n",
    "                ehd_count += 1\n",
    "\n",
    "        current_sup = None\n",
    "        current_sub = None\n",
    "        rec = {\"sample_id\": case}\n",
    "\n",
    "        for i, s in enumerate(spans):\n",
    "            t = s[\"text\"]\n",
    "            if not t:\n",
    "                continue\n",
    "\n",
    "            bold = bool(s[\"flags\"] & 2) or (\"bold\" in s[\"font\"])\n",
    "            low = t.lower()\n",
    "\n",
    "            # super-header?  size=14.0 flags=16 bold font\n",
    "            if bold and s[\"size\"] == 14.0 and s[\"flags\"] == 16:\n",
    "                current_sup = t\n",
    "                current_sub = None\n",
    "                if low == \"other family members\":\n",
    "                    ofm_count += 1\n",
    "                if low == \"country visited\":\n",
    "                    cv_count += 1\n",
    "                continue\n",
    "\n",
    "            # sub-header?\n",
    "            if bold and low in sub_set:\n",
    "                current_sub = t\n",
    "                continue\n",
    "\n",
    "            # field/question?\n",
    "            is_field = (not bold) and (t.endswith(\"?\") or \":\" in t)\n",
    "            if is_field:\n",
    "                # skip if the question looks like page footer or layout artifact\n",
    "                if any(kw in t.lower() for kw in (\"generated\", \"reference number\", \"trn\")):\n",
    "                    continue\n",
    "                \n",
    "                # sanitize parentheses\n",
    "                key_txt = re.sub(r\"\\(.*?\\)\", \"X\", t)\n",
    "                base = key_txt.split(\":\", 1)[0].rstrip(\"?\").strip()\n",
    "                col_slug = slugify(base)\n",
    "                parts = [col_slug]\n",
    "                if current_sup:\n",
    "                    parts.append(initials(current_sup))\n",
    "                if current_sub:\n",
    "                    parts.append(initials(current_sub))\n",
    "                colname = \"_\".join(parts)\n",
    "\n",
    "                # find next bold span as valid answer\n",
    "                ans = \"\"\n",
    "                for nxt in spans[i + 1:]:\n",
    "                    nxt_bold = bool(nxt[\"flags\"] & 2) or (\"bold\" in nxt[\"font\"])\n",
    "                    val = nxt[\"text\"].strip()\n",
    "                    if nxt_bold and val and val.lower() not in (\"personal privacy\", \"official: sensitive\"):\n",
    "                        ans = val\n",
    "                        break\n",
    "                rec[colname] = ans\n",
    "                continue\n",
    "\n",
    "            # special: Value in Australian dollars\n",
    "            if \"value in australian dollars\" in low:\n",
    "                val = \"\"\n",
    "                for nxt in spans[i + 1:]:\n",
    "                    nxt_bold = bool(nxt[\"flags\"] & 2) or (\"bold\" in nxt[\"font\"])\n",
    "                    if nxt_bold and re.match(r\"^[\\d,\\.]+$\", nxt[\"text\"].replace(\" \", \"\")):\n",
    "                        val = nxt[\"text\"].strip()\n",
    "                        break\n",
    "                if val:\n",
    "                    rec[\"value_in_australian_dollars\"] = val\n",
    "                continue\n",
    "        \n",
    "        # add generation date from first page\n",
    "        generated_value = None\n",
    "        for span in spans[:100]:  # assuming ~100 spans on first page is enough\n",
    "            txt = span[\"text\"]\n",
    "            if txt.lower().startswith(\"generated:\"):\n",
    "                generated_value = txt.split(\":\", 1)[-1].strip()\n",
    "                break\n",
    "        rec[\"generated\"] = generated_value\n",
    "        \n",
    "        # store counts\n",
    "        rec[\"other_family_members_count\"] = ofm_count\n",
    "        rec[\"country_visited_count\"] = cv_count\n",
    "        rec[\"employment_history_details_count\"] = ehd_count\n",
    "\n",
    "        rows.append(rec)\n",
    "\n",
    "    df = pd.DataFrame(rows).set_index(\"sample_id\")\n",
    "    return df"
   ]
  },
  {
   "cell_type": "code",
   "execution_count": 5,
   "metadata": {},
   "outputs": [],
   "source": [
    "df_grant_list = pd.read_csv('header_Grant.csv')\n",
    "df_ref_list = pd.read_csv('header_Refusal.csv')\n",
    "\n",
    "headers_list = list(set(df_grant_list.super_header.tolist() + df_ref_list.super_header.tolist()))"
   ]
  },
  {
   "cell_type": "code",
   "execution_count": 6,
   "metadata": {},
   "outputs": [
    {
     "name": "stderr",
     "output_type": "stream",
     "text": [
      "Cases:  58%|█████▊    | 5382/9315 [17:54<13:20,  4.92it/s]  "
     ]
    },
    {
     "name": "stdout",
     "output_type": "stream",
     "text": [
      "MuPDF error: syntax error: cannot load shading function (2233 0 R)\n",
      "\n",
      "MuPDF error: syntax error: cannot load shading function (2233 0 R)\n",
      "\n",
      "MuPDF error: syntax error: cannot load shading function (2233 0 R)\n",
      "\n",
      "MuPDF error: syntax error: cannot load shading function (2233 0 R)\n",
      "\n",
      "MuPDF error: syntax error: cannot load shading function (2233 0 R)\n",
      "\n",
      "MuPDF error: syntax error: cannot load shading function (2233 0 R)\n",
      "\n",
      "MuPDF error: syntax error: cannot load shading function (2233 0 R)\n",
      "\n",
      "MuPDF error: syntax error: cannot load shading function (2233 0 R)\n",
      "\n",
      "MuPDF error: syntax error: cannot load shading function (2233 0 R)\n",
      "\n",
      "MuPDF error: syntax error: cannot load shading function (2233 0 R)\n",
      "\n",
      "MuPDF error: syntax error: cannot load shading function (2233 0 R)\n",
      "\n",
      "MuPDF error: syntax error: cannot load shading function (2233 0 R)\n",
      "\n",
      "MuPDF error: syntax error: cannot load shading function (2233 0 R)\n",
      "\n",
      "MuPDF error: syntax error: cannot load shading function (2233 0 R)\n",
      "\n",
      "MuPDF error: syntax error: cannot load shading function (2233 0 R)\n",
      "\n",
      "MuPDF error: syntax error: cannot load shading function (2233 0 R)\n",
      "\n",
      "MuPDF error: syntax error: cannot load shading function (2233 0 R)\n",
      "\n"
     ]
    },
    {
     "name": "stderr",
     "output_type": "stream",
     "text": [
      "Cases: 100%|██████████| 9315/9315 [35:49<00:00,  4.33it/s]  \n",
      "Cases: 100%|██████████| 740/740 [03:46<00:00,  3.27it/s]\n"
     ]
    }
   ],
   "source": [
    "type_case = 'Grant'\n",
    "#df_grant_list = pd.read_csv('header_Grant.csv')\n",
    "#list_headers_g = df_grant_list.super_header.tolist()\n",
    "##list_headers_g = scan_folder_and_save_csv('data_all/Info Students/'+type_case, 'header_'+type_case+'.csv', check_folders = 500)\n",
    "df_g = process_applications('data_all/Info Students/'+type_case,headers_list, check_folders = None)\n",
    "\n",
    "type_case = 'Refusal'\n",
    "#df_ref_list = pd.read_csv('header_Refusal.csv')\n",
    "#list_headers_r = df_ref_list.super_header.tolist()\n",
    "#list_headers_r = scan_folder_and_save_csv('data_all/Info Students/'+type_case, 'header_'+type_case+'.csv',check_folders = 300)\n",
    "df_r = process_applications('data_all/Info Students/'+type_case,headers_list, check_folders = None)"
   ]
  },
  {
   "cell_type": "code",
   "execution_count": 7,
   "metadata": {},
   "outputs": [],
   "source": [
    "df_g['type_case'] = 'granted'\n",
    "df_r['type_case'] = 'refused'"
   ]
  },
  {
   "cell_type": "code",
   "execution_count": 8,
   "metadata": {},
   "outputs": [],
   "source": [
    "df_cases = pd.concat([df_g,df_r])"
   ]
  },
  {
   "cell_type": "code",
   "execution_count": 12,
   "metadata": {},
   "outputs": [],
   "source": [
    "df_cases.to_csv('data_onevisa.csv', index=False)"
   ]
  },
  {
   "cell_type": "code",
   "execution_count": 13,
   "metadata": {},
   "outputs": [],
   "source": [
    "df_nans = pd.DataFrame(df_cases.isna().sum()).reset_index()\n",
    "df_nans.columns = ['cols_n','numbers']"
   ]
  },
  {
   "cell_type": "code",
   "execution_count": 14,
   "metadata": {},
   "outputs": [
    {
     "data": {
      "text/plain": [
       "(4662, 2)"
      ]
     },
     "execution_count": 14,
     "metadata": {},
     "output_type": "execute_result"
    }
   ],
   "source": [
    "df_nans = df_nans.sort_values(by='numbers')\n",
    "df_nans.shape"
   ]
  },
  {
   "cell_type": "code",
   "execution_count": 15,
   "metadata": {},
   "outputs": [
    {
     "data": {
      "text/html": [
       "<div>\n",
       "<style scoped>\n",
       "    .dataframe tbody tr th:only-of-type {\n",
       "        vertical-align: middle;\n",
       "    }\n",
       "\n",
       "    .dataframe tbody tr th {\n",
       "        vertical-align: top;\n",
       "    }\n",
       "\n",
       "    .dataframe thead th {\n",
       "        text-align: right;\n",
       "    }\n",
       "</style>\n",
       "<table border=\"1\" class=\"dataframe\">\n",
       "  <thead>\n",
       "    <tr style=\"text-align: right;\">\n",
       "      <th></th>\n",
       "      <th>cols_n</th>\n",
       "      <th>numbers</th>\n",
       "    </tr>\n",
       "  </thead>\n",
       "  <tbody>\n",
       "    <tr>\n",
       "      <th>2994</th>\n",
       "      <td>account_holder_s_address_raf</td>\n",
       "      <td>7335</td>\n",
       "    </tr>\n",
       "    <tr>\n",
       "      <th>2995</th>\n",
       "      <td>signature_raf_ouo</td>\n",
       "      <td>7335</td>\n",
       "    </tr>\n",
       "    <tr>\n",
       "      <th>2996</th>\n",
       "      <td>comments_raf_ouo</td>\n",
       "      <td>7335</td>\n",
       "    </tr>\n",
       "    <tr>\n",
       "      <th>2990</th>\n",
       "      <td>account_no_raf</td>\n",
       "      <td>7335</td>\n",
       "    </tr>\n",
       "    <tr>\n",
       "      <th>4661</th>\n",
       "      <td>date_to_e_ud</td>\n",
       "      <td>7335</td>\n",
       "    </tr>\n",
       "  </tbody>\n",
       "</table>\n",
       "</div>"
      ],
      "text/plain": [
       "                            cols_n  numbers\n",
       "2994  account_holder_s_address_raf     7335\n",
       "2995             signature_raf_ouo     7335\n",
       "2996              comments_raf_ouo     7335\n",
       "2990                account_no_raf     7335\n",
       "4661                  date_to_e_ud     7335"
      ]
     },
     "execution_count": 15,
     "metadata": {},
     "output_type": "execute_result"
    }
   ],
   "source": [
    "df_nans.tail()"
   ]
  },
  {
   "cell_type": "code",
   "execution_count": 16,
   "metadata": {},
   "outputs": [],
   "source": [
    "#delete_cols = df_nans[df_nans.numbers>=1600].cols_n.unique().tolist()"
   ]
  },
  {
   "cell_type": "code",
   "execution_count": 17,
   "metadata": {},
   "outputs": [
    {
     "data": {
      "text/plain": [
       "(7336, 4662)"
      ]
     },
     "execution_count": 17,
     "metadata": {},
     "output_type": "execute_result"
    }
   ],
   "source": [
    "cleaned_df = df_cases.dropna(how='all')\n",
    "\n",
    "cleaned_df.shape"
   ]
  },
  {
   "cell_type": "code",
   "execution_count": 18,
   "metadata": {},
   "outputs": [
    {
     "data": {
      "text/plain": [
       "type_case\n",
       "granted    6741\n",
       "refused     595\n",
       "Name: count, dtype: int64"
      ]
     },
     "execution_count": 18,
     "metadata": {},
     "output_type": "execute_result"
    }
   ],
   "source": [
    "cleaned_df.type_case.value_counts()"
   ]
  },
  {
   "cell_type": "code",
   "execution_count": 19,
   "metadata": {},
   "outputs": [],
   "source": [
    "# [i for i in cleaned_df.columns.tolist() if 'e_ehd' in i]"
   ]
  },
  {
   "cell_type": "code",
   "execution_count": 20,
   "metadata": {},
   "outputs": [],
   "source": [
    "# pd.DataFrame(cleaned_df.loc['Yaritza Solange Carvajal Perez'])"
   ]
  },
  {
   "cell_type": "code",
   "execution_count": 21,
   "metadata": {},
   "outputs": [],
   "source": [
    "remove_index = cleaned_df[(cleaned_df['other_family_members_count']==0) & (cleaned_df['country_visited_count']==0)  & (cleaned_df['employment_history_details_count']==0)][['type_case']].index"
   ]
  },
  {
   "cell_type": "code",
   "execution_count": 22,
   "metadata": {},
   "outputs": [],
   "source": [
    "cleaned_df_2 = cleaned_df.drop(index=remove_index.tolist())"
   ]
  },
  {
   "cell_type": "code",
   "execution_count": 23,
   "metadata": {},
   "outputs": [],
   "source": [
    "cleaned_df_2 = cleaned_df_2[cleaned_df_2.current_location_ac_cl.notnull()]"
   ]
  },
  {
   "cell_type": "code",
   "execution_count": 24,
   "metadata": {},
   "outputs": [
    {
     "data": {
      "text/plain": [
       "(6742, 4662)"
      ]
     },
     "execution_count": 24,
     "metadata": {},
     "output_type": "execute_result"
    }
   ],
   "source": [
    "# TBA???\n",
    "cleaned_df_2.shape"
   ]
  },
  {
   "cell_type": "code",
   "execution_count": 25,
   "metadata": {},
   "outputs": [
    {
     "data": {
      "text/plain": [
       "(4662, 2)"
      ]
     },
     "execution_count": 25,
     "metadata": {},
     "output_type": "execute_result"
    }
   ],
   "source": [
    "df_nans = pd.DataFrame(cleaned_df_2.isna().sum()).reset_index()\n",
    "df_nans.columns = ['cols_n','numbers']\n",
    "df_nans = df_nans.sort_values(by='numbers')\n",
    "df_nans.shape"
   ]
  },
  {
   "cell_type": "code",
   "execution_count": 26,
   "metadata": {},
   "outputs": [
    {
     "data": {
      "text/plain": [
       "(6742, 649)"
      ]
     },
     "execution_count": 26,
     "metadata": {},
     "output_type": "execute_result"
    }
   ],
   "source": [
    "delete_cols = df_nans[df_nans.numbers>=cleaned_df_2.shape[0]].cols_n.unique().tolist()\n",
    "cleaned_df_3 = cleaned_df_2.drop(columns=delete_cols+[''])\n",
    "cleaned_df_3.shape"
   ]
  },
  {
   "cell_type": "code",
   "execution_count": 27,
   "metadata": {},
   "outputs": [
    {
     "data": {
      "text/html": [
       "<div>\n",
       "<style scoped>\n",
       "    .dataframe tbody tr th:only-of-type {\n",
       "        vertical-align: middle;\n",
       "    }\n",
       "\n",
       "    .dataframe tbody tr th {\n",
       "        vertical-align: top;\n",
       "    }\n",
       "\n",
       "    .dataframe thead th {\n",
       "        text-align: right;\n",
       "    }\n",
       "</style>\n",
       "<table border=\"1\" class=\"dataframe\">\n",
       "  <thead>\n",
       "    <tr style=\"text-align: right;\">\n",
       "      <th></th>\n",
       "      <th>cols_n</th>\n",
       "      <th>numbers</th>\n",
       "    </tr>\n",
       "  </thead>\n",
       "  <tbody>\n",
       "    <tr>\n",
       "      <th>45</th>\n",
       "      <td>passport_number_cdc</td>\n",
       "      <td>2</td>\n",
       "    </tr>\n",
       "    <tr>\n",
       "      <th>76</th>\n",
       "      <td>accompanying_member_of_the_family_unit_in_this...</td>\n",
       "      <td>2</td>\n",
       "    </tr>\n",
       "    <tr>\n",
       "      <th>73</th>\n",
       "      <td>mobile_cell_phone_ar_ctn</td>\n",
       "      <td>2</td>\n",
       "    </tr>\n",
       "    <tr>\n",
       "      <th>72</th>\n",
       "      <td>business_phone_ar_ctn</td>\n",
       "      <td>2</td>\n",
       "    </tr>\n",
       "    <tr>\n",
       "      <th>71</th>\n",
       "      <td>postal_code_ar_pa</td>\n",
       "      <td>2</td>\n",
       "    </tr>\n",
       "    <tr>\n",
       "      <th>70</th>\n",
       "      <td>state_or_province_ar_pa</td>\n",
       "      <td>2</td>\n",
       "    </tr>\n",
       "    <tr>\n",
       "      <th>69</th>\n",
       "      <td>suburb_town_ar_pa</td>\n",
       "      <td>2</td>\n",
       "    </tr>\n",
       "    <tr>\n",
       "      <th>68</th>\n",
       "      <td>address_ar_pa</td>\n",
       "      <td>2</td>\n",
       "    </tr>\n",
       "    <tr>\n",
       "      <th>40</th>\n",
       "      <td>family_name_cdc</td>\n",
       "      <td>2</td>\n",
       "    </tr>\n",
       "    <tr>\n",
       "      <th>41</th>\n",
       "      <td>given_names_cdc</td>\n",
       "      <td>2</td>\n",
       "    </tr>\n",
       "  </tbody>\n",
       "</table>\n",
       "</div>"
      ],
      "text/plain": [
       "                                               cols_n  numbers\n",
       "45                                passport_number_cdc        2\n",
       "76  accompanying_member_of_the_family_unit_in_this...        2\n",
       "73                           mobile_cell_phone_ar_ctn        2\n",
       "72                              business_phone_ar_ctn        2\n",
       "71                                  postal_code_ar_pa        2\n",
       "70                            state_or_province_ar_pa        2\n",
       "69                                  suburb_town_ar_pa        2\n",
       "68                                      address_ar_pa        2\n",
       "40                                    family_name_cdc        2\n",
       "41                                    given_names_cdc        2"
      ]
     },
     "execution_count": 27,
     "metadata": {},
     "output_type": "execute_result"
    }
   ],
   "source": [
    "df_nans = pd.DataFrame(cleaned_df_3.isna().sum()).reset_index()\n",
    "df_nans.columns = ['cols_n','numbers']\n",
    "df_nans = df_nans.sort_values(by='numbers')\n",
    "df_nans[df_nans.numbers>1].head(10)"
   ]
  },
  {
   "cell_type": "code",
   "execution_count": 28,
   "metadata": {},
   "outputs": [
    {
     "data": {
      "text/html": [
       "<div>\n",
       "<style scoped>\n",
       "    .dataframe tbody tr th:only-of-type {\n",
       "        vertical-align: middle;\n",
       "    }\n",
       "\n",
       "    .dataframe tbody tr th {\n",
       "        vertical-align: top;\n",
       "    }\n",
       "\n",
       "    .dataframe thead th {\n",
       "        text-align: right;\n",
       "    }\n",
       "</style>\n",
       "<table border=\"1\" class=\"dataframe\">\n",
       "  <thead>\n",
       "    <tr style=\"text-align: right;\">\n",
       "      <th></th>\n",
       "      <th>intelligence_agency_x_cd</th>\n",
       "      <th>type_case</th>\n",
       "    </tr>\n",
       "    <tr>\n",
       "      <th>sample_id</th>\n",
       "      <th></th>\n",
       "      <th></th>\n",
       "    </tr>\n",
       "  </thead>\n",
       "  <tbody>\n",
       "    <tr>\n",
       "      <th>Aitor Laiglesia Beamonde</th>\n",
       "      <td>NaN</td>\n",
       "      <td>granted</td>\n",
       "    </tr>\n",
       "    <tr>\n",
       "      <th>Alejandro Collado Olucha</th>\n",
       "      <td>NaN</td>\n",
       "      <td>granted</td>\n",
       "    </tr>\n",
       "    <tr>\n",
       "      <th>Alicia Madurell Maña</th>\n",
       "      <td>NaN</td>\n",
       "      <td>granted</td>\n",
       "    </tr>\n",
       "    <tr>\n",
       "      <th>Benji Marino Jaimes Jerez</th>\n",
       "      <td>NaN</td>\n",
       "      <td>granted</td>\n",
       "    </tr>\n",
       "    <tr>\n",
       "      <th>Daniel Gil Malpartida</th>\n",
       "      <td>NaN</td>\n",
       "      <td>granted</td>\n",
       "    </tr>\n",
       "    <tr>\n",
       "      <th>Daniel Zardain Salcedo</th>\n",
       "      <td>NaN</td>\n",
       "      <td>granted</td>\n",
       "    </tr>\n",
       "    <tr>\n",
       "      <th>Eric Matas Benavente</th>\n",
       "      <td>NaN</td>\n",
       "      <td>granted</td>\n",
       "    </tr>\n",
       "    <tr>\n",
       "      <th>Ignacio Rouco Forcada</th>\n",
       "      <td>NaN</td>\n",
       "      <td>granted</td>\n",
       "    </tr>\n",
       "    <tr>\n",
       "      <th>Jose Manuel Bezanilla Corte</th>\n",
       "      <td>NaN</td>\n",
       "      <td>granted</td>\n",
       "    </tr>\n",
       "    <tr>\n",
       "      <th>MIRIAM GARCIA GARCIA</th>\n",
       "      <td>NaN</td>\n",
       "      <td>granted</td>\n",
       "    </tr>\n",
       "    <tr>\n",
       "      <th>Manuel Jesus Castaño Quero</th>\n",
       "      <td>NaN</td>\n",
       "      <td>granted</td>\n",
       "    </tr>\n",
       "    <tr>\n",
       "      <th>Marcos Cuevas Pla</th>\n",
       "      <td>NaN</td>\n",
       "      <td>granted</td>\n",
       "    </tr>\n",
       "    <tr>\n",
       "      <th>Maria Victoria Sanchez Valenzuela</th>\n",
       "      <td>NaN</td>\n",
       "      <td>granted</td>\n",
       "    </tr>\n",
       "    <tr>\n",
       "      <th>Marta Vilarroig I Vignes</th>\n",
       "      <td>NaN</td>\n",
       "      <td>granted</td>\n",
       "    </tr>\n",
       "    <tr>\n",
       "      <th>Matias Ignacio Carvajal Gallegos</th>\n",
       "      <td>NaN</td>\n",
       "      <td>granted</td>\n",
       "    </tr>\n",
       "    <tr>\n",
       "      <th>Miguel Gastalver Moreno</th>\n",
       "      <td>NaN</td>\n",
       "      <td>granted</td>\n",
       "    </tr>\n",
       "    <tr>\n",
       "      <th>Nicolas Alejandro Salgado Gaete</th>\n",
       "      <td>NaN</td>\n",
       "      <td>granted</td>\n",
       "    </tr>\n",
       "    <tr>\n",
       "      <th>Orlando Fernandes Vialle Junior</th>\n",
       "      <td>NaN</td>\n",
       "      <td>granted</td>\n",
       "    </tr>\n",
       "    <tr>\n",
       "      <th>Pau Cerdà Zaragoza</th>\n",
       "      <td>NaN</td>\n",
       "      <td>granted</td>\n",
       "    </tr>\n",
       "    <tr>\n",
       "      <th>Pau Escudero Pedrerol</th>\n",
       "      <td>NaN</td>\n",
       "      <td>granted</td>\n",
       "    </tr>\n",
       "    <tr>\n",
       "      <th>Rodrigo Ignacio Cabezas Navarro</th>\n",
       "      <td>NaN</td>\n",
       "      <td>granted</td>\n",
       "    </tr>\n",
       "    <tr>\n",
       "      <th>Roger Carulla Diaz</th>\n",
       "      <td>NaN</td>\n",
       "      <td>granted</td>\n",
       "    </tr>\n",
       "    <tr>\n",
       "      <th>Tristan Gomez De Los Infantes Curbera</th>\n",
       "      <td>NaN</td>\n",
       "      <td>granted</td>\n",
       "    </tr>\n",
       "    <tr>\n",
       "      <th>Valeria Cardenas Rosas</th>\n",
       "      <td>NaN</td>\n",
       "      <td>granted</td>\n",
       "    </tr>\n",
       "    <tr>\n",
       "      <th>Victor Vigo Torres</th>\n",
       "      <td>NaN</td>\n",
       "      <td>granted</td>\n",
       "    </tr>\n",
       "    <tr>\n",
       "      <th>Walter Gabriel Schnohr Perez</th>\n",
       "      <td>NaN</td>\n",
       "      <td>granted</td>\n",
       "    </tr>\n",
       "    <tr>\n",
       "      <th>Adriana Marcela Martinez Oliveros</th>\n",
       "      <td>NaN</td>\n",
       "      <td>refused</td>\n",
       "    </tr>\n",
       "    <tr>\n",
       "      <th>Angel Romero Pozuelo</th>\n",
       "      <td>NaN</td>\n",
       "      <td>refused</td>\n",
       "    </tr>\n",
       "    <tr>\n",
       "      <th>Bernhard Jael Vaca Fernández</th>\n",
       "      <td>NaN</td>\n",
       "      <td>refused</td>\n",
       "    </tr>\n",
       "    <tr>\n",
       "      <th>Daniel Alejandro Garcia Loayza</th>\n",
       "      <td>NaN</td>\n",
       "      <td>refused</td>\n",
       "    </tr>\n",
       "    <tr>\n",
       "      <th>Daniel Ramirez Flores</th>\n",
       "      <td>NaN</td>\n",
       "      <td>refused</td>\n",
       "    </tr>\n",
       "    <tr>\n",
       "      <th>Hamza El Hamri Tabt</th>\n",
       "      <td>NaN</td>\n",
       "      <td>refused</td>\n",
       "    </tr>\n",
       "    <tr>\n",
       "      <th>Juan Benítez Castaño</th>\n",
       "      <td>NaN</td>\n",
       "      <td>refused</td>\n",
       "    </tr>\n",
       "    <tr>\n",
       "      <th>Valeria Alejandra Flores Camacho</th>\n",
       "      <td>NaN</td>\n",
       "      <td>refused</td>\n",
       "    </tr>\n",
       "  </tbody>\n",
       "</table>\n",
       "</div>"
      ],
      "text/plain": [
       "                                      intelligence_agency_x_cd type_case\n",
       "sample_id                                                               \n",
       "Aitor Laiglesia Beamonde                                   NaN   granted\n",
       "Alejandro Collado Olucha                                   NaN   granted\n",
       "Alicia Madurell Maña                                      NaN   granted\n",
       "Benji Marino Jaimes Jerez                                  NaN   granted\n",
       "Daniel Gil Malpartida                                      NaN   granted\n",
       "Daniel Zardain Salcedo                                     NaN   granted\n",
       "Eric Matas Benavente                                       NaN   granted\n",
       "Ignacio Rouco Forcada                                      NaN   granted\n",
       "Jose Manuel Bezanilla Corte                                NaN   granted\n",
       "MIRIAM GARCIA GARCIA                                       NaN   granted\n",
       "Manuel Jesus Castaño Quero                                NaN   granted\n",
       "Marcos Cuevas Pla                                          NaN   granted\n",
       "Maria Victoria Sanchez Valenzuela                          NaN   granted\n",
       "Marta Vilarroig I Vignes                                   NaN   granted\n",
       "Matias Ignacio Carvajal Gallegos                           NaN   granted\n",
       "Miguel Gastalver Moreno                                    NaN   granted\n",
       "Nicolas Alejandro Salgado Gaete                            NaN   granted\n",
       "Orlando Fernandes Vialle Junior                            NaN   granted\n",
       "Pau Cerdà Zaragoza                                        NaN   granted\n",
       "Pau Escudero Pedrerol                                      NaN   granted\n",
       "Rodrigo Ignacio Cabezas Navarro                            NaN   granted\n",
       "Roger Carulla Diaz                                         NaN   granted\n",
       "Tristan Gomez De Los Infantes Curbera                      NaN   granted\n",
       "Valeria Cardenas Rosas                                     NaN   granted\n",
       "Victor Vigo Torres                                         NaN   granted\n",
       "Walter Gabriel Schnohr Perez                               NaN   granted\n",
       "Adriana Marcela Martinez Oliveros                          NaN   refused\n",
       "Angel Romero Pozuelo                                       NaN   refused\n",
       "Bernhard Jael Vaca Fernández                              NaN   refused\n",
       "Daniel Alejandro Garcia Loayza                             NaN   refused\n",
       "Daniel Ramirez Flores                                      NaN   refused\n",
       "Hamza El Hamri Tabt                                        NaN   refused\n",
       "Juan Benítez Castaño                                     NaN   refused\n",
       "Valeria Alejandra Flores Camacho                           NaN   refused"
      ]
     },
     "execution_count": 28,
     "metadata": {},
     "output_type": "execute_result"
    }
   ],
   "source": [
    "cleaned_df_3[cleaned_df_3.intelligence_agency_x_cd.isna()][['intelligence_agency_x_cd','type_case']]"
   ]
  },
  {
   "cell_type": "code",
   "execution_count": 29,
   "metadata": {},
   "outputs": [],
   "source": [
    "from collections import defaultdict\n",
    "import re\n",
    "\n",
    "def print_exclusive_per_row_columns(df):\n",
    "    groups = defaultdict(list)\n",
    "\n",
    "    # Agrupa por prefijo sin sufijo (_cd, _od, _dvod, etc.)\n",
    "    for col in df.columns:\n",
    "        base = re.sub(r'_[a-z]{2,5}$', '', col)\n",
    "        groups[base].append(col)\n",
    "\n",
    "    for base, cols in groups.items():\n",
    "        if len(cols) < 2:\n",
    "            continue\n",
    "\n",
    "        sub_df = df[cols]\n",
    "        \n",
    "        # Para cada fila, contar cuántas columnas no son NaN\n",
    "        non_nan_counts_per_row = sub_df.notna().sum(axis=1)\n",
    "\n",
    "        # Si en todas las filas hay solo una columna con valor no NaN\n",
    "        if (non_nan_counts_per_row == 1).all():\n",
    "            print(f\"{base}: {cols}\")\n"
   ]
  },
  {
   "cell_type": "code",
   "execution_count": 30,
   "metadata": {},
   "outputs": [
    {
     "name": "stdout",
     "output_type": "stream",
     "text": [
      "home_phone_cd: ['home_phone_cd_ctn', 'home_phone_cd_ctnia']\n",
      "business_phone_cd: ['business_phone_cd_ctn', 'business_phone_cd_ctnia']\n",
      "mobile_cell_phone_cd: ['mobile_cell_phone_cd_ctn', 'mobile_cell_phone_cd_ctnia']\n",
      "in_australia: ['in_australia_hd', 'in_australia_vtoc']\n",
      "now_removed_from_official_records: ['now_removed_from_official_records_cd', 'now_removed_from_official_records_od']\n",
      "has_any_applicant_ever_been_the_subject_of_an_arrest_warrant_or_interpol_notice: ['has_any_applicant_ever_been_the_subject_of_an_arrest_warrant_or_interpol_notice_cd', 'has_any_applicant_ever_been_the_subject_of_an_arrest_warrant_or_interpol_notice_od', 'has_any_applicant_ever_been_the_subject_of_an_arrest_warrant_or_interpol_notice_dvod']\n",
      "where_no_conviction_was_recorded: ['where_no_conviction_was_recorded_cd', 'where_no_conviction_was_recorded_od', 'where_no_conviction_was_recorded_dvod']\n",
      "has_any_applicant_ever_been_named_on_a_sex_offender_register: ['has_any_applicant_ever_been_named_on_a_sex_offender_register_cd', 'has_any_applicant_ever_been_named_on_a_sex_offender_register_od', 'has_any_applicant_ever_been_named_on_a_sex_offender_register_dvod']\n",
      "insanity: ['insanity_cd', 'insanity_od', 'insanity_dvod']\n",
      "has_any_applicant_ever_been_found_by_a_court_not_fit_to_plead: ['has_any_applicant_ever_been_found_by_a_court_not_fit_to_plead_cd', 'has_any_applicant_ever_been_found_by_a_court_not_fit_to_plead_od', 'has_any_applicant_ever_been_found_by_a_court_not_fit_to_plead_dvod']\n",
      "would_represent_a_risk_to_national_security_in_australia_or_any_other_country: ['would_represent_a_risk_to_national_security_in_australia_or_any_other_country_cd', 'would_represent_a_risk_to_national_security_in_australia_or_any_other_country_od', 'would_represent_a_risk_to_national_security_in_australia_or_any_other_country_dvod']\n",
      "has_any_applicant_ever_been_charged_with_or_indicted_for: ['has_any_applicant_ever_been_charged_with_or_indicted_for_cd', 'has_any_applicant_ever_been_charged_with_or_indicted_for_od', 'has_any_applicant_ever_been_charged_with_or_indicted_for_dvod']\n",
      "humanity_torture_slavery_or_any_other_crime_that_is_otherwise_of_a_serious_international_concern: ['humanity_torture_slavery_or_any_other_crime_that_is_otherwise_of_a_serious_international_concern_cd', 'humanity_torture_slavery_or_any_other_crime_that_is_otherwise_of_a_serious_international_concern_od', 'humanity_torture_slavery_or_any_other_crime_that_is_otherwise_of_a_serious_international_concern_dvod']\n",
      "involved_in_criminal_conduct: ['involved_in_criminal_conduct_cd', 'involved_in_criminal_conduct_od', 'involved_in_criminal_conduct_dvod']\n",
      "australia: ['australia_cd', 'australia_od', 'australia_dvod']\n",
      "intelligence_agency_x: ['intelligence_agency_x_cd', 'intelligence_agency_x_od', 'intelligence_agency_x_dvod']\n",
      "explosives_or_in_the_manufacture_of_chemical_biological_products: ['explosives_or_in_the_manufacture_of_chemical_biological_products_cd', 'explosives_or_in_the_manufacture_of_chemical_biological_products_doms', 'explosives_or_in_the_manufacture_of_chemical_biological_products_od', 'explosives_or_in_the_manufacture_of_chemical_biological_products_dvod']\n",
      "has_any_applicant_ever_been_involved_in_people_smuggling_or_people_trafficking_offences: ['has_any_applicant_ever_been_involved_in_people_smuggling_or_people_trafficking_offences_cd', 'has_any_applicant_ever_been_involved_in_people_smuggling_or_people_trafficking_offences_domt', 'has_any_applicant_ever_been_involved_in_people_smuggling_or_people_trafficking_offences_od', 'has_any_applicant_ever_been_involved_in_people_smuggling_or_people_trafficking_offences_doms', 'has_any_applicant_ever_been_involved_in_people_smuggling_or_people_trafficking_offences_dvod']\n",
      "has_any_applicant_ever_been_removed_deported_or_excluded_from_any_country_x: ['has_any_applicant_ever_been_removed_deported_or_excluded_from_any_country_x_cd', 'has_any_applicant_ever_been_removed_deported_or_excluded_from_any_country_x_domt', 'has_any_applicant_ever_been_removed_deported_or_excluded_from_any_country_x_od', 'has_any_applicant_ever_been_removed_deported_or_excluded_from_any_country_x_doms', 'has_any_applicant_ever_been_removed_deported_or_excluded_from_any_country_x_dvod']\n",
      "has_any_applicant_ever_overstayed_a_visa_in_any_country_x: ['has_any_applicant_ever_overstayed_a_visa_in_any_country_x_cd', 'has_any_applicant_ever_overstayed_a_visa_in_any_country_x_domt', 'has_any_applicant_ever_overstayed_a_visa_in_any_country_x_od', 'has_any_applicant_ever_overstayed_a_visa_in_any_country_x_doms', 'has_any_applicant_ever_overstayed_a_visa_in_any_country_x_dvod']\n",
      "authority_in_australia: ['authority_in_australia_cd', 'authority_in_australia_domt', 'authority_in_australia_od', 'authority_in_australia_doms', 'authority_in_australia_dvod']\n"
     ]
    }
   ],
   "source": [
    "print_exclusive_per_row_columns(cleaned_df_3)"
   ]
  },
  {
   "cell_type": "code",
   "execution_count": 31,
   "metadata": {},
   "outputs": [],
   "source": [
    "# cleaned_df_3[['authority_in_australia_cd', 'authority_in_australia_domt', 'authority_in_australia_doms', 'authority_in_australia_od', 'authority_in_australia_dvod']]"
   ]
  },
  {
   "cell_type": "code",
   "execution_count": 32,
   "metadata": {},
   "outputs": [
    {
     "name": "stdout",
     "output_type": "stream",
     "text": [
      "Unified: ['home_phone_cd_ctn', 'home_phone_cd_ctnia'] -> home_phone_cd_x\n",
      "Unified: ['business_phone_cd_ctn', 'business_phone_cd_ctnia'] -> business_phone_cd_x\n",
      "Unified: ['mobile_cell_phone_cd_ctn', 'mobile_cell_phone_cd_ctnia'] -> mobile_cell_phone_cd_x\n",
      "Unified: ['in_australia_hd', 'in_australia_vtoc'] -> in_australia_x\n",
      "Unified: ['now_removed_from_official_records_cd', 'now_removed_from_official_records_od'] -> now_removed_from_official_records_x\n",
      "Unified: ['has_any_applicant_ever_been_the_subject_of_an_arrest_warrant_or_interpol_notice_cd', 'has_any_applicant_ever_been_the_subject_of_an_arrest_warrant_or_interpol_notice_od', 'has_any_applicant_ever_been_the_subject_of_an_arrest_warrant_or_interpol_notice_dvod'] -> has_any_applicant_ever_been_the_subject_of_an_arrest_warrant_or_interpol_notice_x\n",
      "Unified: ['where_no_conviction_was_recorded_cd', 'where_no_conviction_was_recorded_od', 'where_no_conviction_was_recorded_dvod'] -> where_no_conviction_was_recorded_x\n",
      "Unified: ['has_any_applicant_ever_been_named_on_a_sex_offender_register_cd', 'has_any_applicant_ever_been_named_on_a_sex_offender_register_od', 'has_any_applicant_ever_been_named_on_a_sex_offender_register_dvod'] -> has_any_applicant_ever_been_named_on_a_sex_offender_register_x\n",
      "Unified: ['insanity_cd', 'insanity_od', 'insanity_dvod'] -> insanity_x\n",
      "Unified: ['has_any_applicant_ever_been_found_by_a_court_not_fit_to_plead_cd', 'has_any_applicant_ever_been_found_by_a_court_not_fit_to_plead_od', 'has_any_applicant_ever_been_found_by_a_court_not_fit_to_plead_dvod'] -> has_any_applicant_ever_been_found_by_a_court_not_fit_to_plead_x\n",
      "Unified: ['would_represent_a_risk_to_national_security_in_australia_or_any_other_country_cd', 'would_represent_a_risk_to_national_security_in_australia_or_any_other_country_od', 'would_represent_a_risk_to_national_security_in_australia_or_any_other_country_dvod'] -> would_represent_a_risk_to_national_security_in_australia_or_any_other_country_x\n",
      "Unified: ['has_any_applicant_ever_been_charged_with_or_indicted_for_cd', 'has_any_applicant_ever_been_charged_with_or_indicted_for_od', 'has_any_applicant_ever_been_charged_with_or_indicted_for_dvod'] -> has_any_applicant_ever_been_charged_with_or_indicted_for_x\n",
      "Unified: ['humanity_torture_slavery_or_any_other_crime_that_is_otherwise_of_a_serious_international_concern_cd', 'humanity_torture_slavery_or_any_other_crime_that_is_otherwise_of_a_serious_international_concern_od', 'humanity_torture_slavery_or_any_other_crime_that_is_otherwise_of_a_serious_international_concern_dvod'] -> humanity_torture_slavery_or_any_other_crime_that_is_otherwise_of_a_serious_international_concern_x\n",
      "Unified: ['involved_in_criminal_conduct_cd', 'involved_in_criminal_conduct_od', 'involved_in_criminal_conduct_dvod'] -> involved_in_criminal_conduct_x\n",
      "Unified: ['australia_cd', 'australia_od', 'australia_dvod'] -> australia_x\n",
      "Unified: ['intelligence_agency_x_cd', 'intelligence_agency_x_od', 'intelligence_agency_x_dvod'] -> intelligence_agency_x_x\n",
      "Unified: ['explosives_or_in_the_manufacture_of_chemical_biological_products_cd', 'explosives_or_in_the_manufacture_of_chemical_biological_products_doms', 'explosives_or_in_the_manufacture_of_chemical_biological_products_od', 'explosives_or_in_the_manufacture_of_chemical_biological_products_dvod'] -> explosives_or_in_the_manufacture_of_chemical_biological_products_x\n",
      "Unified: ['has_any_applicant_ever_been_involved_in_people_smuggling_or_people_trafficking_offences_cd', 'has_any_applicant_ever_been_involved_in_people_smuggling_or_people_trafficking_offences_domt', 'has_any_applicant_ever_been_involved_in_people_smuggling_or_people_trafficking_offences_od', 'has_any_applicant_ever_been_involved_in_people_smuggling_or_people_trafficking_offences_doms', 'has_any_applicant_ever_been_involved_in_people_smuggling_or_people_trafficking_offences_dvod'] -> has_any_applicant_ever_been_involved_in_people_smuggling_or_people_trafficking_offences_x\n",
      "Unified: ['has_any_applicant_ever_been_removed_deported_or_excluded_from_any_country_x_cd', 'has_any_applicant_ever_been_removed_deported_or_excluded_from_any_country_x_domt', 'has_any_applicant_ever_been_removed_deported_or_excluded_from_any_country_x_od', 'has_any_applicant_ever_been_removed_deported_or_excluded_from_any_country_x_doms', 'has_any_applicant_ever_been_removed_deported_or_excluded_from_any_country_x_dvod'] -> has_any_applicant_ever_been_removed_deported_or_excluded_from_any_country_x_x\n",
      "Unified: ['has_any_applicant_ever_overstayed_a_visa_in_any_country_x_cd', 'has_any_applicant_ever_overstayed_a_visa_in_any_country_x_domt', 'has_any_applicant_ever_overstayed_a_visa_in_any_country_x_od', 'has_any_applicant_ever_overstayed_a_visa_in_any_country_x_doms', 'has_any_applicant_ever_overstayed_a_visa_in_any_country_x_dvod'] -> has_any_applicant_ever_overstayed_a_visa_in_any_country_x_x\n",
      "Unified: ['authority_in_australia_cd', 'authority_in_australia_domt', 'authority_in_australia_od', 'authority_in_australia_doms', 'authority_in_australia_dvod'] -> authority_in_australia_x\n"
     ]
    }
   ],
   "source": [
    "from collections import defaultdict\n",
    "import re\n",
    "\n",
    "def unify_exclusive_columns(df: pd.DataFrame) -> pd.DataFrame:\n",
    "    df = df.copy()\n",
    "    groups = defaultdict(list)\n",
    "\n",
    "    # Agrupar por base eliminando el sufijo (2–5 letras tras último guion bajo)\n",
    "    for col in df.columns:\n",
    "        base = re.sub(r'_[a-z]{2,5}$', '', col)\n",
    "        groups[base].append(col)\n",
    "\n",
    "    for base, cols in groups.items():\n",
    "        if len(cols) < 2:\n",
    "            continue\n",
    "\n",
    "        sub_df = df[cols]\n",
    "\n",
    "        # Check if only one non-NaN value per row\n",
    "        if (sub_df.notna().sum(axis=1) == 1).all():\n",
    "            # Create unified column with suffix _x\n",
    "            unified_col = base + \"_x\"\n",
    "            df[unified_col] = sub_df.bfill(axis=1).iloc[:, 0]\n",
    "\n",
    "            # Drop original columns\n",
    "            df.drop(columns=cols, inplace=True)\n",
    "\n",
    "            print(f\"Unified: {cols} -> {unified_col}\")\n",
    "\n",
    "    return df\n",
    "\n",
    "\n",
    "cleaned_df_4 = unify_exclusive_columns(cleaned_df_3)"
   ]
  },
  {
   "cell_type": "code",
   "execution_count": 33,
   "metadata": {},
   "outputs": [
    {
     "data": {
      "text/plain": [
       "(6742, 603)"
      ]
     },
     "execution_count": 33,
     "metadata": {},
     "output_type": "execute_result"
    }
   ],
   "source": [
    "cleaned_df_4.shape"
   ]
  },
  {
   "cell_type": "code",
   "execution_count": 34,
   "metadata": {},
   "outputs": [
    {
     "data": {
      "text/plain": [
       "(92, 2)"
      ]
     },
     "execution_count": 34,
     "metadata": {},
     "output_type": "execute_result"
    }
   ],
   "source": [
    "df_nans = pd.DataFrame(cleaned_df_4.isna().sum()).reset_index()\n",
    "df_nans.columns = ['cols_n','numbers']\n",
    "df_nans = df_nans.sort_values(by='numbers')\n",
    "df_nans[df_nans.numbers<=10].shape"
   ]
  },
  {
   "cell_type": "code",
   "execution_count": 35,
   "metadata": {},
   "outputs": [],
   "source": [
    "cleaned_df_4.to_csv('data_onevisa_postprocess.csv', index=True)"
   ]
  },
  {
   "cell_type": "code",
   "execution_count": 36,
   "metadata": {},
   "outputs": [
    {
     "data": {
      "text/plain": [
       "(6742, 603)"
      ]
     },
     "execution_count": 36,
     "metadata": {},
     "output_type": "execute_result"
    }
   ],
   "source": [
    "cleaned_df_4.shape"
   ]
  },
  {
   "cell_type": "code",
   "execution_count": 37,
   "metadata": {},
   "outputs": [
    {
     "data": {
      "text/plain": [
       "type_case\n",
       "granted    6174\n",
       "refused     568\n",
       "Name: count, dtype: int64"
      ]
     },
     "execution_count": 37,
     "metadata": {},
     "output_type": "execute_result"
    }
   ],
   "source": [
    "cleaned_df_4.type_case.value_counts()"
   ]
  },
  {
   "cell_type": "code",
   "execution_count": 299,
   "metadata": {},
   "outputs": [],
   "source": [
    "summary = pd.DataFrame({\n",
    "        \"number_unique\": cleaned_df_4.nunique(),\n",
    "        \"number_nan\": cleaned_df_4.isna().sum(),\n",
    "        \"dtype\": cleaned_df_4.dtypes\n",
    "    })"
   ]
  },
  {
   "cell_type": "code",
   "execution_count": 300,
   "metadata": {},
   "outputs": [
    {
     "data": {
      "text/html": [
       "<div>\n",
       "<style scoped>\n",
       "    .dataframe tbody tr th:only-of-type {\n",
       "        vertical-align: middle;\n",
       "    }\n",
       "\n",
       "    .dataframe tbody tr th {\n",
       "        vertical-align: top;\n",
       "    }\n",
       "\n",
       "    .dataframe thead th {\n",
       "        text-align: right;\n",
       "    }\n",
       "</style>\n",
       "<table border=\"1\" class=\"dataframe\">\n",
       "  <thead>\n",
       "    <tr style=\"text-align: right;\">\n",
       "      <th></th>\n",
       "      <th>number_unique</th>\n",
       "      <th>number_nan</th>\n",
       "      <th>dtype</th>\n",
       "    </tr>\n",
       "  </thead>\n",
       "  <tbody>\n",
       "    <tr>\n",
       "      <th>coe_code_coed</th>\n",
       "      <td>1549</td>\n",
       "      <td>51</td>\n",
       "      <td>object</td>\n",
       "    </tr>\n",
       "    <tr>\n",
       "      <th>family_name_pa_pd</th>\n",
       "      <td>1603</td>\n",
       "      <td>0</td>\n",
       "      <td>object</td>\n",
       "    </tr>\n",
       "    <tr>\n",
       "      <th>date_of_birth_pa_pd</th>\n",
       "      <td>1411</td>\n",
       "      <td>0</td>\n",
       "      <td>object</td>\n",
       "    </tr>\n",
       "    <tr>\n",
       "      <th>passport_number_pa_pd</th>\n",
       "      <td>1628</td>\n",
       "      <td>0</td>\n",
       "      <td>object</td>\n",
       "    </tr>\n",
       "    <tr>\n",
       "      <th>family_name_nic</th>\n",
       "      <td>1542</td>\n",
       "      <td>57</td>\n",
       "      <td>object</td>\n",
       "    </tr>\n",
       "    <tr>\n",
       "      <th>identification_number_nic</th>\n",
       "      <td>1567</td>\n",
       "      <td>57</td>\n",
       "      <td>object</td>\n",
       "    </tr>\n",
       "    <tr>\n",
       "      <th>family_name_cdc</th>\n",
       "      <td>1603</td>\n",
       "      <td>0</td>\n",
       "      <td>object</td>\n",
       "    </tr>\n",
       "    <tr>\n",
       "      <th>date_of_birth_cdc</th>\n",
       "      <td>1411</td>\n",
       "      <td>0</td>\n",
       "      <td>object</td>\n",
       "    </tr>\n",
       "    <tr>\n",
       "      <th>passport_number_cdc</th>\n",
       "      <td>1628</td>\n",
       "      <td>0</td>\n",
       "      <td>object</td>\n",
       "    </tr>\n",
       "    <tr>\n",
       "      <th>address_cd_ra</th>\n",
       "      <td>1518</td>\n",
       "      <td>107</td>\n",
       "      <td>object</td>\n",
       "    </tr>\n",
       "    <tr>\n",
       "      <th>family_name_ofm_fmd</th>\n",
       "      <td>1591</td>\n",
       "      <td>4</td>\n",
       "      <td>object</td>\n",
       "    </tr>\n",
       "    <tr>\n",
       "      <th>date_of_birth_ofm_fmd</th>\n",
       "      <td>1536</td>\n",
       "      <td>4</td>\n",
       "      <td>object</td>\n",
       "    </tr>\n",
       "    <tr>\n",
       "      <th>insurance_policy_number_hi_oshc</th>\n",
       "      <td>1557</td>\n",
       "      <td>0</td>\n",
       "      <td>object</td>\n",
       "    </tr>\n",
       "    <tr>\n",
       "      <th>organisation_name_e_e/bd</th>\n",
       "      <td>1492</td>\n",
       "      <td>116</td>\n",
       "      <td>object</td>\n",
       "    </tr>\n",
       "    <tr>\n",
       "      <th>address_e_oa</th>\n",
       "      <td>1510</td>\n",
       "      <td>116</td>\n",
       "      <td>object</td>\n",
       "    </tr>\n",
       "    <tr>\n",
       "      <th>generated</th>\n",
       "      <td>1628</td>\n",
       "      <td>0</td>\n",
       "      <td>object</td>\n",
       "    </tr>\n",
       "    <tr>\n",
       "      <th>home_phone_cd_x</th>\n",
       "      <td>1546</td>\n",
       "      <td>0</td>\n",
       "      <td>object</td>\n",
       "    </tr>\n",
       "  </tbody>\n",
       "</table>\n",
       "</div>"
      ],
      "text/plain": [
       "                                 number_unique  number_nan   dtype\n",
       "coe_code_coed                             1549          51  object\n",
       "family_name_pa_pd                         1603           0  object\n",
       "date_of_birth_pa_pd                       1411           0  object\n",
       "passport_number_pa_pd                     1628           0  object\n",
       "family_name_nic                           1542          57  object\n",
       "identification_number_nic                 1567          57  object\n",
       "family_name_cdc                           1603           0  object\n",
       "date_of_birth_cdc                         1411           0  object\n",
       "passport_number_cdc                       1628           0  object\n",
       "address_cd_ra                             1518         107  object\n",
       "family_name_ofm_fmd                       1591           4  object\n",
       "date_of_birth_ofm_fmd                     1536           4  object\n",
       "insurance_policy_number_hi_oshc           1557           0  object\n",
       "organisation_name_e_e/bd                  1492         116  object\n",
       "address_e_oa                              1510         116  object\n",
       "generated                                 1628           0  object\n",
       "home_phone_cd_x                           1546           0  object"
      ]
     },
     "execution_count": 300,
     "metadata": {},
     "output_type": "execute_result"
    }
   ],
   "source": [
    "summary[summary.number_unique>1400]"
   ]
  },
  {
   "cell_type": "code",
   "execution_count": 301,
   "metadata": {},
   "outputs": [
    {
     "data": {
      "text/plain": [
       "dtype\n",
       "object    449\n",
       "int64       3\n",
       "Name: count, dtype: int64"
      ]
     },
     "execution_count": 301,
     "metadata": {},
     "output_type": "execute_result"
    }
   ],
   "source": [
    "summary.dtype.value_counts()"
   ]
  },
  {
   "cell_type": "code",
   "execution_count": 302,
   "metadata": {},
   "outputs": [
    {
     "data": {
      "text/html": [
       "<div>\n",
       "<style scoped>\n",
       "    .dataframe tbody tr th:only-of-type {\n",
       "        vertical-align: middle;\n",
       "    }\n",
       "\n",
       "    .dataframe tbody tr th {\n",
       "        vertical-align: top;\n",
       "    }\n",
       "\n",
       "    .dataframe thead th {\n",
       "        text-align: right;\n",
       "    }\n",
       "</style>\n",
       "<table border=\"1\" class=\"dataframe\">\n",
       "  <thead>\n",
       "    <tr style=\"text-align: right;\">\n",
       "      <th></th>\n",
       "      <th>number_unique</th>\n",
       "      <th>number_nan</th>\n",
       "      <th>dtype</th>\n",
       "    </tr>\n",
       "  </thead>\n",
       "  <tbody>\n",
       "    <tr>\n",
       "      <th>description_of_the_offence_od</th>\n",
       "      <td>1</td>\n",
       "      <td>1627</td>\n",
       "      <td>object</td>\n",
       "    </tr>\n",
       "    <tr>\n",
       "      <th>list_countries_on/s_c</th>\n",
       "      <td>1</td>\n",
       "      <td>1627</td>\n",
       "      <td>object</td>\n",
       "    </tr>\n",
       "    <tr>\n",
       "      <th>other_itwobaticc</th>\n",
       "      <td>1</td>\n",
       "      <td>1627</td>\n",
       "      <td>object</td>\n",
       "    </tr>\n",
       "    <tr>\n",
       "      <th>order_of_a_tribunal_or_court_or_other_similar_authority_for_the_personal_protection_of_another_person_od</th>\n",
       "      <td>1</td>\n",
       "      <td>1621</td>\n",
       "      <td>object</td>\n",
       "    </tr>\n",
       "    <tr>\n",
       "      <th>country_cd_cor</th>\n",
       "      <td>1</td>\n",
       "      <td>1521</td>\n",
       "      <td>object</td>\n",
       "    </tr>\n",
       "  </tbody>\n",
       "</table>\n",
       "</div>"
      ],
      "text/plain": [
       "                                                    number_unique  number_nan  \\\n",
       "description_of_the_offence_od                                   1        1627   \n",
       "list_countries_on/s_c                                           1        1627   \n",
       "other_itwobaticc                                                1        1627   \n",
       "order_of_a_tribunal_or_court_or_other_similar_a...              1        1621   \n",
       "country_cd_cor                                                  1        1521   \n",
       "\n",
       "                                                     dtype  \n",
       "description_of_the_offence_od                       object  \n",
       "list_countries_on/s_c                               object  \n",
       "other_itwobaticc                                    object  \n",
       "order_of_a_tribunal_or_court_or_other_similar_a...  object  \n",
       "country_cd_cor                                      object  "
      ]
     },
     "execution_count": 302,
     "metadata": {},
     "output_type": "execute_result"
    }
   ],
   "source": [
    "summary.sort_values(by='number_unique').head()"
   ]
  },
  {
   "cell_type": "code",
   "execution_count": 303,
   "metadata": {},
   "outputs": [
    {
     "data": {
      "text/plain": [
       "(106, 3)"
      ]
     },
     "execution_count": 303,
     "metadata": {},
     "output_type": "execute_result"
    }
   ],
   "source": [
    "summary[(summary.number_unique<=200) & (summary.number_nan<=200)].shape"
   ]
  }
 ],
 "metadata": {
  "kernelspec": {
   "display_name": "Python 3",
   "language": "python",
   "name": "python3"
  },
  "language_info": {
   "codemirror_mode": {
    "name": "ipython",
    "version": 3
   },
   "file_extension": ".py",
   "mimetype": "text/x-python",
   "name": "python",
   "nbconvert_exporter": "python",
   "pygments_lexer": "ipython3",
   "version": "3.11.5"
  }
 },
 "nbformat": 4,
 "nbformat_minor": 2
}
