{
 "cells": [
  {
   "cell_type": "code",
   "execution_count": null,
   "metadata": {},
   "outputs": [],
   "source": [
    "import pandas as pd"
   ]
  },
  {
   "cell_type": "code",
   "execution_count": null,
   "metadata": {},
   "outputs": [],
   "source": [
    "pd.set_option('display.max_columns', None)\n",
    "pd.set_option('display.max_rows', None)"
   ]
  },
  {
   "cell_type": "code",
   "execution_count": null,
   "metadata": {},
   "outputs": [],
   "source": [
    "df = pd.read_csv('data_onevisa_postprocess.csv').set_index('sample_id')\n",
    "df.shape"
   ]
  },
  {
   "cell_type": "code",
   "execution_count": null,
   "metadata": {},
   "outputs": [],
   "source": [
    "summary = pd.DataFrame({\n",
    "        \"number_unique\": df.nunique(),\n",
    "        \"number_nan\": df.isna().sum(),\n",
    "        \"dtype_df\": df.dtypes\n",
    "    })"
   ]
  },
  {
   "cell_type": "code",
   "execution_count": null,
   "metadata": {},
   "outputs": [],
   "source": [
    "df['generated'] = df['generated'].apply(lambda x: x.split(',')[1])"
   ]
  },
  {
   "cell_type": "code",
   "execution_count": null,
   "metadata": {},
   "outputs": [],
   "source": [
    "df['generated_date'] = pd.to_datetime(df['generated'], dayfirst=True)\n"
   ]
  },
  {
   "cell_type": "code",
   "execution_count": null,
   "metadata": {},
   "outputs": [],
   "source": [
    "list_columns_remove = summary[(summary.number_unique>df.shape[0]*0.8) & (summary.dtype_df=='object')].sort_values(by='number_unique').index.tolist()\n",
    "list_columns_remove_f = [i for i in list_columns_remove if 'date' not in i]"
   ]
  },
  {
   "cell_type": "code",
   "execution_count": null,
   "metadata": {},
   "outputs": [],
   "source": [
    "df_f = df.drop(columns = list_columns_remove_f)"
   ]
  },
  {
   "cell_type": "code",
   "execution_count": null,
   "metadata": {},
   "outputs": [],
   "source": [
    "df_f.shape"
   ]
  },
  {
   "cell_type": "code",
   "execution_count": null,
   "metadata": {},
   "outputs": [],
   "source": [
    "date_cols = [c for c in df.columns if 'date' in c.lower()]\n",
    "\n",
    "# 2) Compute their missing‐value percentages\n",
    "miss_pct = df_f[date_cols].isna().mean()\n",
    "\n",
    "# 3) Drop those over 80% missing\n",
    "to_drop = miss_pct[miss_pct > 0.8].index\n",
    "df_f = df_f.drop(columns=to_drop)\n",
    "print(df_f.shape)"
   ]
  },
  {
   "cell_type": "code",
   "execution_count": null,
   "metadata": {},
   "outputs": [],
   "source": [
    "df_f = df_f[df_f['date_of_issue_nic']!='Place of birth']\n",
    "df_f = df_f[df_f['date_of_expiry_nic']!='Place of birth']\n",
    "\n",
    "df_f = df_f.drop(columns = ['date_from_e_pd','date_to_e_pd','date_from_cv',\n",
    "                            'date_to_cv','date_from_ehd','date_to_ehd','date_from_e_scd',\n",
    "                            'date_to_e_scd'])"
   ]
  },
  {
   "cell_type": "code",
   "execution_count": null,
   "metadata": {},
   "outputs": [],
   "source": [
    "date_cols = [\n",
    "    c for c in df_f.columns\n",
    "    if 'date' in c.lower() and c != 'generated_date']\n",
    "\n",
    "for col in date_cols:\n",
    "    print(col)\n",
    "    # convert the column to datetime if it isn’t already\n",
    "    df_f[col] = pd.to_datetime(df_f[col], dayfirst=True)\n",
    "    # replace with difference in days (you can keep the Timedelta if you prefer)\n",
    "    df_f[col] = (df_f['generated_date'] - df_f[col]).dt.days"
   ]
  },
  {
   "cell_type": "code",
   "execution_count": null,
   "metadata": {},
   "outputs": [],
   "source": [
    "today = pd.Timestamp.today().normalize()\n",
    "df_f['days_from_today'] = (today - df_f['generated_date']).dt.days\n",
    "\n",
    "df_f = df_f.drop(columns= ['generated_date'])"
   ]
  },
  {
   "cell_type": "code",
   "execution_count": null,
   "metadata": {},
   "outputs": [],
   "source": [
    "df_f = df_f[df_f.in_australia_x!='Character declarations']"
   ]
  },
  {
   "cell_type": "code",
   "execution_count": null,
   "metadata": {},
   "outputs": [],
   "source": [
    "df_f.shape"
   ]
  },
  {
   "cell_type": "code",
   "execution_count": null,
   "metadata": {},
   "outputs": [],
   "source": [
    "summary = pd.DataFrame({\n",
    "        \"number_unique\": df_f.nunique(),\n",
    "        \"number_nan\": df_f.isna().sum(),\n",
    "        \"dtype_df\": df_f.dtypes\n",
    "    })"
   ]
  },
  {
   "cell_type": "code",
   "execution_count": null,
   "metadata": {},
   "outputs": [],
   "source": [
    "df_f.type_case.value_counts()"
   ]
  },
  {
   "cell_type": "code",
   "execution_count": null,
   "metadata": {},
   "outputs": [],
   "source": [
    "summary[summary.index.isin([i for i in df_f.columns if 'australia' in i])]"
   ]
  },
  {
   "cell_type": "code",
   "execution_count": null,
   "metadata": {},
   "outputs": [],
   "source": [
    "df_f[df_f.stay_in_australia_itehohcf=='Character declarations']"
   ]
  },
  {
   "cell_type": "code",
   "execution_count": null,
   "metadata": {},
   "outputs": [],
   "source": [
    "df_f.stay_in_australia_itehohcf.unique()"
   ]
  },
  {
   "cell_type": "code",
   "execution_count": null,
   "metadata": {},
   "outputs": [],
   "source": [
    "df_f.shape"
   ]
  },
  {
   "cell_type": "code",
   "execution_count": null,
   "metadata": {},
   "outputs": [],
   "source": [
    "df_f.to_csv('data_onevisa_postprocess_v2.csv', index=True)"
   ]
  },
  {
   "cell_type": "code",
   "execution_count": null,
   "metadata": {},
   "outputs": [],
   "source": []
  }
 ],
 "metadata": {
  "kernelspec": {
   "display_name": "Python 3",
   "language": "python",
   "name": "python3"
  },
  "language_info": {
   "codemirror_mode": {
    "name": "ipython",
    "version": 3
   },
   "file_extension": ".py",
   "mimetype": "text/x-python",
   "name": "python",
   "nbconvert_exporter": "python",
   "pygments_lexer": "ipython3",
   "version": "3.11.5"
  }
 },
 "nbformat": 4,
 "nbformat_minor": 2
}
